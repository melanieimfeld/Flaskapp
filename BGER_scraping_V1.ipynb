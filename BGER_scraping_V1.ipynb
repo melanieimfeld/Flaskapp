{
 "cells": [
  {
   "cell_type": "code",
   "execution_count": 1,
   "metadata": {},
   "outputs": [
    {
     "ename": "ModuleNotFoundError",
     "evalue": "No module named 'requests'",
     "output_type": "error",
     "traceback": [
      "\u001b[0;31m---------------------------------------------------------------------------\u001b[0m",
      "\u001b[0;31mModuleNotFoundError\u001b[0m                       Traceback (most recent call last)",
      "\u001b[0;32m<ipython-input-1-e07b69569729>\u001b[0m in \u001b[0;36m<module>\u001b[0;34m\u001b[0m\n\u001b[1;32m      1\u001b[0m \u001b[0;31m#https://stackoverflow.com/questions/47944782/r-data-scraping-crawling-with-dynamic-multiple-urls\u001b[0m\u001b[0;34m\u001b[0m\u001b[0;34m\u001b[0m\u001b[0;34m\u001b[0m\u001b[0m\n\u001b[0;32m----> 2\u001b[0;31m \u001b[0;32mimport\u001b[0m \u001b[0mrequests\u001b[0m\u001b[0;34m\u001b[0m\u001b[0;34m\u001b[0m\u001b[0m\n\u001b[0m\u001b[1;32m      3\u001b[0m \u001b[0;32mimport\u001b[0m \u001b[0mpandas\u001b[0m \u001b[0;32mas\u001b[0m \u001b[0mpd\u001b[0m\u001b[0;34m\u001b[0m\u001b[0;34m\u001b[0m\u001b[0m\n\u001b[1;32m      4\u001b[0m \u001b[0;32mfrom\u001b[0m \u001b[0mbs4\u001b[0m \u001b[0;32mimport\u001b[0m \u001b[0mBeautifulSoup\u001b[0m\u001b[0;34m\u001b[0m\u001b[0;34m\u001b[0m\u001b[0m\n\u001b[1;32m      5\u001b[0m \u001b[0;32mimport\u001b[0m \u001b[0mre\u001b[0m\u001b[0;34m\u001b[0m\u001b[0;34m\u001b[0m\u001b[0m\n",
      "\u001b[0;31mModuleNotFoundError\u001b[0m: No module named 'requests'"
     ]
    }
   ],
   "source": [
    "#https://stackoverflow.com/questions/47944782/r-data-scraping-crawling-with-dynamic-multiple-urls\n",
    "import requests\n",
    "import pandas as pd\n",
    "from bs4 import BeautifulSoup\n",
    "import re"
   ]
  },
  {
   "cell_type": "code",
   "execution_count": null,
   "metadata": {},
   "outputs": [],
   "source": [
    "import locale, datetime #for stringparsing in german\n",
    "locale.setlocale(locale.LC_ALL, \"de_de\")"
   ]
  },
  {
   "cell_type": "markdown",
   "metadata": {},
   "source": [
    "**Extracting the index leading to mandate**"
   ]
  },
  {
   "cell_type": "code",
   "execution_count": null,
   "metadata": {},
   "outputs": [],
   "source": [
    "#highlight_docid=atf%3A%2F%2F95-IV-162\n",
    "queryKeyword = \"mord\"\n",
    "queryRank = \"1\"\n",
    "#bgerQuery2 = \"https://www.bger.ch/ext/eurospider/live/de/php/clir/http/index.php?lang=de&type=highlight_simple_query&page=1&from_date=&to_date=&from_year=1954&to_year=2019&sort=relevance&insertion_date=&from_date_push=&top_subcollection_clir=bge&query_words=\"+ queryKeyword + \"&part=all&de_fr=&de_it=&fr_de=&fr_it=&it_de=&it_fr=&orig=&translation=&rank=\"+queryRank+\"&highlight_docid=atf%3A%2F%2F95-IV-162%3Ade&number_of_ranks=945&azaclir=clir\""
   ]
  },
  {
   "cell_type": "code",
   "execution_count": null,
   "metadata": {},
   "outputs": [],
   "source": [
    "bgerQuery2 = 'https://www.bger.ch/ext/eurospider/live/de/php/clir/http/index.php?lang=de&type=simple_query&query_words='+ queryKeyword +'&lang=de&top_subcollection_clir=bge&from_year=1954&to_year=2019'"
   ]
  },
  {
   "cell_type": "code",
   "execution_count": null,
   "metadata": {},
   "outputs": [],
   "source": [
    "bgerQuery2"
   ]
  },
  {
   "cell_type": "code",
   "execution_count": null,
   "metadata": {},
   "outputs": [],
   "source": [
    "#check if content was loaded properly\n",
    "bgerQuery2 = requests.get(bgerQuery2)\n",
    "bgerQuery2"
   ]
  },
  {
   "cell_type": "code",
   "execution_count": null,
   "metadata": {},
   "outputs": [],
   "source": [
    "#bgerQuery2.content"
   ]
  },
  {
   "cell_type": "code",
   "execution_count": null,
   "metadata": {},
   "outputs": [],
   "source": [
    "#soup = BeautifulSoup(page.content, 'html.parser')"
   ]
  },
  {
   "cell_type": "code",
   "execution_count": null,
   "metadata": {},
   "outputs": [],
   "source": [
    "bgerSoup = BeautifulSoup(bgerQuery2.content, 'html.parser')"
   ]
  },
  {
   "cell_type": "code",
   "execution_count": null,
   "metadata": {},
   "outputs": [],
   "source": [
    "bgerSoup"
   ]
  },
  {
   "cell_type": "code",
   "execution_count": null,
   "metadata": {},
   "outputs": [],
   "source": [
    "links = bgerSoup.find_all(class_='rank_title')\n",
    "linksList = []\n",
    "for a in links:\n",
    "    linksList.append(a.find('a')['href'])\n",
    "    #print(a)\n",
    "print(linksList[0])"
   ]
  },
  {
   "cell_type": "markdown",
   "metadata": {},
   "source": [
    "**Make a new query with Linkslist (only based on first entry)**"
   ]
  },
  {
   "cell_type": "code",
   "execution_count": null,
   "metadata": {},
   "outputs": [],
   "source": [
    "mBger = requests.get(linksList[0])"
   ]
  },
  {
   "cell_type": "code",
   "execution_count": null,
   "metadata": {},
   "outputs": [],
   "source": [
    "#mBger.content"
   ]
  },
  {
   "cell_type": "code",
   "execution_count": null,
   "metadata": {},
   "outputs": [],
   "source": [
    "mBger = BeautifulSoup(mBger.content, 'html.parser')"
   ]
  },
  {
   "cell_type": "code",
   "execution_count": null,
   "metadata": {},
   "outputs": [],
   "source": [
    "#mBger"
   ]
  },
  {
   "cell_type": "markdown",
   "metadata": {},
   "source": [
    "**display children / find correct html elements**"
   ]
  },
  {
   "cell_type": "code",
   "execution_count": null,
   "metadata": {},
   "outputs": [],
   "source": [
    "len(list(mBger.children))\n",
    "#find body\n",
    "body = list(mBger.children)[12]\n",
    "len(list(body.children))\n",
    "#body"
   ]
  },
  {
   "cell_type": "markdown",
   "metadata": {},
   "source": [
    "**get all required variables from verdict**"
   ]
  },
  {
   "cell_type": "markdown",
   "metadata": {},
   "source": [
    "**dateparser for string dates**"
   ]
  },
  {
   "cell_type": "code",
   "execution_count": null,
   "metadata": {},
   "outputs": [],
   "source": [
    "text2 = \"41. Urteil des Kassationshofes vom 5. Dezember 1969 i.S. Staatsanwaltschaft des Kantons Aargau gegen Brunner.\"\n",
    "\n",
    "def parseDate(text):\n",
    "    pattern = re.compile(r\"\"\"\n",
    "        \\d\\d?   # one or two digits\n",
    "        \\.?\n",
    "        \\s?      # \\s for space - one space after\n",
    "        [a-z,ä,ö,ü]+  # at least one+ ascii letters (ignore case is use)set of characters that you wish to match / since + means ‘one or more repetitions’\n",
    "        \\s?      # one space after\n",
    "        \\d{4}   # four decimal digits = \\d (year)\n",
    "    \"\"\",re.IGNORECASE|re.VERBOSE)\n",
    "    if (pattern.search(text)!= None):\n",
    "        #print(pattern.search(text).group(), type(pattern.search(text).group()))\n",
    "        dateStr = pattern.search(text).group()\n",
    "        dateStr = dateStr.replace(\".\", \"\")\n",
    "        dateStr = datetime.datetime.strptime(dateStr, \"%d %B %Y\")\n",
    "        #dateStr = dateStr.strftime('%m/%d/%Y')\n",
    "        return dateStr\n",
    "    else:\n",
    "        return 0 #make 0 if date can't be found"
   ]
  },
  {
   "cell_type": "code",
   "execution_count": null,
   "metadata": {},
   "outputs": [],
   "source": [
    "#ID of mandate\n",
    "mID = body.find_all('div', class_=\"center pagebreak\")[0].get_text()[:13]\n",
    "#mandID\n",
    "\n",
    "#referenced mandates\n",
    "#without link\n",
    "mRefs = body.find_all(class_=\"bgeref_err\")\n",
    "#with link\n",
    "mRefsLinked = body.find_all(class_=\"bgeref_id\")\n",
    "\n",
    "#date:\n",
    "mDate = body.find_all(class_=\"paraatf\")[0].get_text()\n",
    "#mDate = parseDate(mDate)\n",
    "mDate = parseDate(mDate)\n",
    "mDate\n",
    "\n",
    "#links of liked reference mandates\n",
    "linksListref = []\n",
    "for a in mRefsLinked:\n",
    "    linksListref.append(a['href'])"
   ]
  },
  {
   "cell_type": "code",
   "execution_count": null,
   "metadata": {},
   "outputs": [],
   "source": [
    "type(mDate)"
   ]
  },
  {
   "cell_type": "code",
   "execution_count": null,
   "metadata": {},
   "outputs": [],
   "source": [
    "def listing(elementlist):\n",
    "    ar = []\n",
    "    for item in elementlist:\n",
    "        print(item.get_text())\n",
    "        ar.append(item.get_text())\n",
    "    print(ar)\n",
    "    return ar"
   ]
  },
  {
   "cell_type": "code",
   "execution_count": null,
   "metadata": {},
   "outputs": [],
   "source": [
    "mRefs = listing(mRefs)\n",
    "mRefsLinked = listing(mRefsLinked)"
   ]
  },
  {
   "cell_type": "code",
   "execution_count": null,
   "metadata": {},
   "outputs": [],
   "source": [
    "\"id\", mID, \"referenced mandates\", mRefs, \"referenced linked mandates\", mRefsLinked, \"date\", mDate"
   ]
  },
  {
   "cell_type": "markdown",
   "metadata": {},
   "source": [
    "**Save variables in dynamic dictionary**"
   ]
  },
  {
   "cell_type": "code",
   "execution_count": null,
   "metadata": {},
   "outputs": [],
   "source": [
    "l=['mID','mRefs','mRefsLinked','links','date']\n",
    "objs = [mID,mRefs, mRefsLinked, linksListref, mDate]\n",
    "mDict = {}\n",
    "for i, val in enumerate(l):\n",
    "    k= objs[i]\n",
    "    mDict[val]=k\n",
    "print(mDict, type(mDict))"
   ]
  },
  {
   "cell_type": "code",
   "execution_count": null,
   "metadata": {},
   "outputs": [],
   "source": [
    "#https://stackoverflow.com/questions/13575090/construct-pandas-dataframe-from-items-in-nested-dictionary\n",
    "#pd.DataFrame.from_dict(mDict, orient='index')"
   ]
  },
  {
   "cell_type": "code",
   "execution_count": null,
   "metadata": {},
   "outputs": [],
   "source": []
  }
 ],
 "metadata": {
  "kernelspec": {
   "display_name": "Python 3",
   "language": "python",
   "name": "python3"
  },
  "language_info": {
   "codemirror_mode": {
    "name": "ipython",
    "version": 3
   },
   "file_extension": ".py",
   "mimetype": "text/x-python",
   "name": "python",
   "nbconvert_exporter": "python",
   "pygments_lexer": "ipython3",
   "version": "3.7.2"
  }
 },
 "nbformat": 4,
 "nbformat_minor": 2
}
