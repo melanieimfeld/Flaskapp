{
 "cells": [
  {
   "cell_type": "code",
   "execution_count": 1,
   "metadata": {},
   "outputs": [
    {
     "name": "stdout",
     "output_type": "stream",
     "text": [
      "3.7.2 (v3.7.2:9a3ffc0492, Dec 24 2018, 02:44:43) \n",
      "[Clang 6.0 (clang-600.0.57)]\n"
     ]
    }
   ],
   "source": [
    "import sys\n",
    "print (sys.version)"
   ]
  },
  {
   "cell_type": "code",
   "execution_count": 2,
   "metadata": {},
   "outputs": [],
   "source": [
    "#https://stackoverflow.com/questions/47944782/r-data-scraping-crawling-with-dynamic-multiple-urls\n",
    "import requests\n",
    "import pandas as pd\n",
    "from bs4 import BeautifulSoup\n",
    "import re\n",
    "import random"
   ]
  },
  {
   "cell_type": "code",
   "execution_count": 3,
   "metadata": {},
   "outputs": [
    {
     "name": "stdout",
     "output_type": "stream",
     "text": [
      "[]\n",
      "re.compile('\\\\b(?:bern|luzern|uri|schwyz|obwalden|nidwalden|zürich|berne|lucerne)\\\\b', re.IGNORECASE)\n"
     ]
    },
    {
     "data": {
      "text/plain": [
       "'Bern'"
      ]
     },
     "execution_count": 3,
     "metadata": {},
     "output_type": "execute_result"
    }
   ],
   "source": [
    "string = \"this is zürcher obwaldene Bern uriniert banana apples\"\n",
    "cantons =['bern','luzern','uri','schwyz','obwalden','nidwalden','zürich','berne','lucerne']\n",
    "\n",
    "print([s for s in cantons if string in s])\n",
    "#if any(x in string for x in cantons):\n",
    "        #print([x in string for x in cantons])\n",
    "fruit_list = ['bern','luzern','uri','schwyz','obwalden','nidwalden','zürich','berne','lucerne']\n",
    "fruit = re.compile(r'\\b(?:%s)\\b' % '|'.join(fruit_list), re.IGNORECASE)\n",
    "print(fruit)\n",
    "fruit.search(string).group()"
   ]
  },
  {
   "cell_type": "code",
   "execution_count": 3,
   "metadata": {},
   "outputs": [],
   "source": [
    "#from nltk.corpus import stopwords\n",
    "#import nltk\n",
    "#nltk.download('stopwords')"
   ]
  },
  {
   "cell_type": "code",
   "execution_count": 4,
   "metadata": {},
   "outputs": [
    {
     "data": {
      "text/plain": [
       "'de_de'"
      ]
     },
     "execution_count": 4,
     "metadata": {},
     "output_type": "execute_result"
    }
   ],
   "source": [
    "import locale, datetime #for stringparsing in german\n",
    "locale.setlocale(locale.LC_ALL, \"de_de\")\n",
    "#locale.setlocale(locale.LC_ALL, \"fr_FR\")"
   ]
  },
  {
   "cell_type": "markdown",
   "metadata": {},
   "source": [
    "**Extracting the index leading to mandate**"
   ]
  },
  {
   "cell_type": "code",
   "execution_count": 5,
   "metadata": {},
   "outputs": [],
   "source": [
    "#highlight_docid=atf%3A%2F%2F95-IV-162\n",
    "queryKeyword = \"mord\"\n",
    "queryRank = \"1\"\n",
    "#bgerQuery2 = \"https://www.bger.ch/ext/eurospider/live/de/php/clir/http/index.php?lang=de&type=highlight_simple_query&page=1&from_date=&to_date=&from_year=1954&to_year=2019&sort=relevance&insertion_date=&from_date_push=&top_subcollection_clir=bge&query_words=\"+ queryKeyword + \"&part=all&de_fr=&de_it=&fr_de=&fr_it=&it_de=&it_fr=&orig=&translation=&rank=\"+queryRank+\"&highlight_docid=atf%3A%2F%2F95-IV-162%3Ade&number_of_ranks=945&azaclir=clir\""
   ]
  },
  {
   "cell_type": "code",
   "execution_count": 6,
   "metadata": {},
   "outputs": [],
   "source": [
    "#bgerQuery2 = 'https://www.bger.ch/ext/eurospider/live/de/php/clir/http/index.php?lang=de&type=simple_query&query_words='+ queryKeyword +'&lang=de&top_subcollection_clir=bge&from_year=1954&to_year=2019'"
   ]
  },
  {
   "cell_type": "code",
   "execution_count": 6,
   "metadata": {},
   "outputs": [],
   "source": [
    "from_year = \"2017\"\n",
    "to_year = \"2019\"\n",
    "\n",
    "bgerQuery2 = 'https://www.bger.ch/ext/eurospider/live/de/php/clir/http/index.php?lang=de&type=simple_query&query_words='+ queryKeyword +'&lang=de&top_subcollection_clir=bge&from_year='+ from_year + '&to_year=' + to_year"
   ]
  },
  {
   "cell_type": "code",
   "execution_count": 7,
   "metadata": {},
   "outputs": [
    {
     "data": {
      "text/plain": [
       "'https://www.bger.ch/ext/eurospider/live/de/php/clir/http/index.php?lang=de&type=simple_query&query_words=mord&lang=de&top_subcollection_clir=bge&from_year=2017&to_year=2019'"
      ]
     },
     "execution_count": 7,
     "metadata": {},
     "output_type": "execute_result"
    }
   ],
   "source": [
    "bgerQuery2"
   ]
  },
  {
   "cell_type": "code",
   "execution_count": 8,
   "metadata": {},
   "outputs": [
    {
     "data": {
      "text/plain": [
       "<Response [200]>"
      ]
     },
     "execution_count": 8,
     "metadata": {},
     "output_type": "execute_result"
    }
   ],
   "source": [
    "#check if content was loaded properly\n",
    "bgerQuery2 = requests.get(bgerQuery2)\n",
    "bgerQuery2"
   ]
  },
  {
   "cell_type": "code",
   "execution_count": 10,
   "metadata": {},
   "outputs": [],
   "source": [
    "#bgerQuery2.content"
   ]
  },
  {
   "cell_type": "code",
   "execution_count": 11,
   "metadata": {},
   "outputs": [],
   "source": [
    "#soup = BeautifulSoup(page.content, 'html.parser')"
   ]
  },
  {
   "cell_type": "code",
   "execution_count": 9,
   "metadata": {},
   "outputs": [],
   "source": [
    "bgerSoup = BeautifulSoup(bgerQuery2.content, 'html.parser')"
   ]
  },
  {
   "cell_type": "code",
   "execution_count": 10,
   "metadata": {},
   "outputs": [],
   "source": [
    "#bgerSoup"
   ]
  },
  {
   "cell_type": "code",
   "execution_count": 11,
   "metadata": {},
   "outputs": [
    {
     "name": "stdout",
     "output_type": "stream",
     "text": [
      "https://www.bger.ch/ext/eurospider/live/de/php/clir/http/index.php?lang=de&type=highlight_simple_query&page=1&from_date=&to_date=&from_year=2017&to_year=2019&sort=relevance&insertion_date=&from_date_push=&top_subcollection_clir=bge&query_words=mord&part=all&de_fr=&de_it=&fr_de=&fr_it=&it_de=&it_fr=&orig=&translation=&rank=1&highlight_docid=atf%3A%2F%2F144-IV-285%3Ade&number_of_ranks=10&azaclir=clir\n"
     ]
    }
   ],
   "source": [
    "links = bgerSoup.find_all(class_='rank_title')\n",
    "linksList = []\n",
    "for a in links:\n",
    "    linksList.append(a.find('a')['href'])\n",
    "    #print(a)\n",
    "print(linksList[0])"
   ]
  },
  {
   "cell_type": "markdown",
   "metadata": {},
   "source": [
    "**Make a new query with Linkslist (only based on first entry)**"
   ]
  },
  {
   "cell_type": "code",
   "execution_count": 12,
   "metadata": {},
   "outputs": [],
   "source": [
    "mBger = requests.get(linksList[0])"
   ]
  },
  {
   "cell_type": "code",
   "execution_count": 16,
   "metadata": {},
   "outputs": [],
   "source": [
    "#mBger.content"
   ]
  },
  {
   "cell_type": "code",
   "execution_count": 13,
   "metadata": {},
   "outputs": [],
   "source": [
    "mBger = BeautifulSoup(mBger.content, 'html.parser')"
   ]
  },
  {
   "cell_type": "code",
   "execution_count": 14,
   "metadata": {},
   "outputs": [],
   "source": [
    "#mBger"
   ]
  },
  {
   "cell_type": "markdown",
   "metadata": {},
   "source": [
    "**display children / find correct html elements**"
   ]
  },
  {
   "cell_type": "code",
   "execution_count": 15,
   "metadata": {},
   "outputs": [
    {
     "data": {
      "text/plain": [
       "33"
      ]
     },
     "execution_count": 15,
     "metadata": {},
     "output_type": "execute_result"
    }
   ],
   "source": [
    "len(list(mBger.children))\n",
    "#find body\n",
    "body = list(mBger.children)[12]\n",
    "len(list(body.children))\n",
    "#body"
   ]
  },
  {
   "cell_type": "markdown",
   "metadata": {},
   "source": [
    "**get all required variables from verdict**"
   ]
  },
  {
   "cell_type": "markdown",
   "metadata": {},
   "source": [
    "**dateparser for string dates**"
   ]
  },
  {
   "cell_type": "code",
   "execution_count": 16,
   "metadata": {},
   "outputs": [],
   "source": [
    "text2 = \"41. Urteil des Kassationshofes vom 5. octobre 1969 i.S. Staatsanwaltschaft des Kantons Aargau gegen Brunner.\"\n",
    "\n",
    "def parseDate(text):\n",
    "    pattern = re.compile(r\"\"\"\n",
    "        \\d\\d?   # one or two digits\n",
    "        \\.?\n",
    "        \\s?      # \\s for space - one space after\n",
    "        [a-z,ä,ö,ü,é,û]+  # at least one+ ascii letters (ignore case is use)set of characters that you wish to match / since + means ‘one or more repetitions’\n",
    "        \\s?      # one space after\n",
    "        \\d{4}   # four decimal digits = \\d (year)\n",
    "    \"\"\",re.IGNORECASE|re.VERBOSE)\n",
    "    #print(pattern.search(text))\n",
    "    if (pattern.search(text)!= None):\n",
    "        #print(\"pattern detected\")\n",
    "        #print(pattern.search(text).group(), type(pattern.search(text).group()))\n",
    "        dateStr = pattern.search(text).group()\n",
    "        dateStr = dateStr.replace(\".\", \"\")\n",
    "        #print(dateStr)\n",
    "        #dateStr = dateStr.format('DD MMMM YYYY', locale='de')\n",
    "        dateStr = detectLanguage(dateStr)\n",
    "        #print(dateStr)\n",
    "        #dateStr = dateStr.strftime('%m/%d/%Y')\n",
    "        return dateStr\n",
    "    else:\n",
    "        return 0 #make 0 if date can't be found ig not existent or different language"
   ]
  },
  {
   "cell_type": "code",
   "execution_count": 17,
   "metadata": {},
   "outputs": [],
   "source": [
    "import arrow"
   ]
  },
  {
   "cell_type": "code",
   "execution_count": 18,
   "metadata": {},
   "outputs": [],
   "source": [
    "def detectLanguage(string):\n",
    "    months_de = [\"januar\", \"februar\", \"märz\", \"april\", \"mai\",\"juni\",\"juli\", \"august\", \"september\", \"oktober\", \"november\", \"dezember\"]\n",
    "    months_fr = [\"janvier\", \"février\", \"mars\", \"avril\", \"juin\", \"juillet\", \"août\", \"septembre\", \"octobre\", \"novembre\", \"décembre\"]\n",
    "    months_it = [\"gennaio\", \"febbraio\", \"marzo\", \"aprile\", \"maggio\", \"giugno\", \"luglio\", \"agosto\", \"settembre\", \"ottobre\", \"novembre\",\" dicembre\"]\n",
    "    string2 = string.lower().split()\n",
    "    if any(x in string2 for x in months_de):\n",
    "        print(\"deutsch\",string)\n",
    "        string = arrow.get(string, 'D MMMM YYYY', locale='de')\n",
    "        #string.format('YYYY-MMMM-DD')\n",
    "        string = string.strftime('%Y-%m-%d')\n",
    "        return string\n",
    "    elif any(x in string2 for x in months_fr):\n",
    "        string = arrow.get(string, 'D MMMM YYYY', locale='fr')\n",
    "        string = string.strftime('%Y-%m-%d')\n",
    "        #string.format('YYYY-MMMM-DD')\n",
    "        print(\"french\",string)\n",
    "        return string\n",
    "    elif any(x in string2 for x in months_it):\n",
    "        print(\"italian\",string)\n",
    "        string = arrow.get(string, 'D MMMM YYYY', locale='it')\n",
    "        string = string.strftime('%Y-%m-%d')\n",
    "        return string\n",
    "    else:\n",
    "        string = 0\n",
    "        print(\"string not detected\")\n",
    "        return string"
   ]
  },
  {
   "cell_type": "code",
   "execution_count": 19,
   "metadata": {},
   "outputs": [
    {
     "name": "stdout",
     "output_type": "stream",
     "text": [
      "italian 14 aprile 2005\n",
      "2005-04-14\n"
     ]
    }
   ],
   "source": [
    "print(parseDate('14 aprile 2005'))"
   ]
  },
  {
   "cell_type": "markdown",
   "metadata": {},
   "source": [
    "**genderparser**"
   ]
  },
  {
   "cell_type": "code",
   "execution_count": 21,
   "metadata": {},
   "outputs": [],
   "source": [
    "male= [\"er\", \"sein\", \"seine\", \"ihm\", \"ihn\", \"il\", \"lui\"]\n",
    "female = [\"sie\", \"ihr\", \"ihre\", \"ihren\", \"elle\",\"lei\"]\n",
    "\n",
    "#for item in text:\n",
    "    \n",
    "    "
   ]
  },
  {
   "cell_type": "markdown",
   "metadata": {},
   "source": [
    "**Get NAME, DATE, SUBLINKS of MAIN MANDATE**"
   ]
  },
  {
   "cell_type": "code",
   "execution_count": 22,
   "metadata": {},
   "outputs": [],
   "source": [
    "def cleanString(string):\n",
    "    if string[len(string)-1] == 'S':\n",
    "        string = string[:-1]\n",
    "    string = string.rstrip()\n",
    "    string = string[4:]\n",
    "    return string"
   ]
  },
  {
   "cell_type": "code",
   "execution_count": 23,
   "metadata": {},
   "outputs": [],
   "source": [
    "def extractLinks(htmlElements):\n",
    "    array = []\n",
    "    for a in htmlElements:\n",
    "        #print(a)\n",
    "        if a['href'] not in array: #make sure to not add duplicate mandates\n",
    "            array.append(a['href'])\n",
    "    return array"
   ]
  },
  {
   "cell_type": "code",
   "execution_count": 24,
   "metadata": {},
   "outputs": [],
   "source": [
    "def listing(elementlist):\n",
    "    ar = []\n",
    "    for item in elementlist:\n",
    "        if item.get_text() not in ar:\n",
    "            #print(item.get_text())\n",
    "            ar.append(item.get_text())\n",
    "    #print(ar)\n",
    "    return ar"
   ]
  },
  {
   "cell_type": "code",
   "execution_count": 25,
   "metadata": {},
   "outputs": [],
   "source": [
    "def getEdges(linkNames, ID):\n",
    "    edgeList = []\n",
    "    if linkNames: #list has items\n",
    "        #print(\"links list is not empty\", linkNames)\n",
    "        for i, val in enumerate(linkNames):\n",
    "            #print(i)\n",
    "            val = cleanString(val)\n",
    "            oj = {\"source\": ID, \"target\": val}\n",
    "            if oj not in edgeList:\n",
    "                #print(type(oj), \"is in list\")\n",
    "                edgeList.append(oj)\n",
    "    return edgeList\n",
    "#links_main"
   ]
  },
  {
   "cell_type": "code",
   "execution_count": 26,
   "metadata": {},
   "outputs": [],
   "source": [
    "def getDateName(link):\n",
    "    #nodes = []\n",
    "    r = requests.get(link)\n",
    "    linkSoup = BeautifulSoup(r.content, 'html.parser')\n",
    "    body = list(linkSoup.children)[12]\n",
    "    #ID of mandate\n",
    "    mID = cleanString(body.find_all('div', class_=\"center pagebreak\")[0].get_text()[:14])\n",
    "    #print(mID)\n",
    "    mDate = body.find_all(class_=\"paraatf\")[1].get_text()\n",
    "    test = body.find_all(class_=\"paraatf\")\n",
    "    #quickfix, skip all dates that can't be parsed\n",
    "    mDateParsed = parseDate(mDate)\n",
    "    mRefs = body.find_all(class_=\"bgeref_id\")\n",
    "    mRefsLinks = extractLinks(mRefs)\n",
    "    regeste = body.find(\"div\", {\"id\" : \"regeste\"}).get_text()\n",
    "    mRefsNames = listing(mRefs) #LIST with all str names\n",
    "    subEdges = getEdges(mRefsNames, mID) #LIST with dicts for each connection\n",
    "    #print(mRefsLinks)\n",
    "    return mID, mDateParsed, mRefsLinks, subEdges, mRefsNames, regeste, test"
   ]
  },
  {
   "cell_type": "code",
   "execution_count": 27,
   "metadata": {},
   "outputs": [
    {
     "name": "stdout",
     "output_type": "stream",
     "text": [
      "deutsch 15 August 2018\n",
      "deutsch 23 Mai 2018\n",
      "deutsch 25 Oktober 2017\n"
     ]
    }
   ],
   "source": [
    "mandate1 = getDateName(linksList[0])\n",
    "mandate2 = getDateName(linksList[1])\n",
    "mandate3 = getDateName(linksList[2])\n"
   ]
  },
  {
   "cell_type": "code",
   "execution_count": 34,
   "metadata": {},
   "outputs": [
    {
     "data": {
      "text/plain": [
       "[<div class=\"paraatf\">34. Auszug aus dem Urteil der Strafrechtlichen Abteilung i.S. Oberstaatsanwaltschaft des Kantons Zürich gegen X. (Beschwerde in Strafsachen)</div>,\n",
       " <div class=\"paraatf\">6B_1091/2017 vom 15. August 2018</div>,\n",
       " <div class=\"paraatf\"><span class=\"artref\">Art. 70 Abs. 1 StGB</span>, <span class=\"artref\">Art. 540 Abs. 1 Ziff. 1 ZGB</span>; mehrfacher <span class=\"exact_match\" id=\"highlight_match_677\">Mord</span>; Erbunwürdigkeit; Gültigkeit von Zuwendungen der Erben an die erbunwürdige Person; Voraussetzungen für die Vermögenseinziehung.  <div class=\"paratf\">Inhalt und Rechtsnatur der Bestimmung über die Erbunwürdigkeit von <span class=\"artref\">Art. 540 Abs. 1 Ziff. 1 ZGB</span>. Nicht nach <span class=\"artref\">Art. 70 Abs. 1 StGB</span> einziehbar sind Vermögenswerte, die aus einem objektiv legalen Rechtsgeschäft stammen (Bestätigung der Rechtsprechung). Die beurteilte Vereinbarung, wonach der Täter auf eine Erbenstellung verzichtet und im Gegenzug dazu von den Erben eine Immobilie sowie einen Geldbetrag aus dem Nachlass seiner getöteten Eltern erhält, ist gültig. Die Vermögenswerte, welche dem Täter aus diesem Rechtsgeschäft zustehen, unterliegen nicht der Einziehung (E. 2). </div>\n",
       " </div>,\n",
       " <div class=\"paraatf\">\n",
       " <a name=\"page285\"></a><div class=\"center pagebreak\">BGE 144 IV 285 S. 285</div>\n",
       " </div>,\n",
       " <div class=\"paraatf\">\n",
       " <a name=\"idp380768\"></a><span class=\"bold\">A. </span>Das Bezirksgericht Meilen sprach X. mit Urteil vom 4. Juli 2016 des <span class=\"complete_match\" id=\"highlight_match_2056\">Mordes</span> (<span class=\"artref\">Art. 112 StGB</span>) an seinen Eltern schuldig. Es verurteilte ihn zu einer Freiheitsstrafe von 20 Jahren und ordnete eine stationäre therapeutische Massnahme im Sinne von <span class=\"artref\">Art. 59 StGB</span> an, wobei es <a name=\"page286\"></a><div class=\"center pagebreak\">BGE 144 IV 285 S. 286</div>den Vollzug der Freiheitsstrafe zugunsten der stationären Massnahme aufschob. Es verfügte zudem die Einziehung der mit Zirkulationsbeschluss vom 31. Mai 2016 beschlagnahmten Ansprüche von X. gegen die Privatkläger 1-3 auf Bezahlung von Fr. 100'000.- und auf Übereignung einer Stockwerkeigentumswohnung an der A.-Strasse in Zürich.</div>,\n",
       " <div class=\"paraatf\">\n",
       " <a name=\"idp386912\"></a><span class=\"bold\">B. </span>Das Obergericht des Kantons Zürich bestätigte am 15. Mai 2017 auf Berufung von X. den Schuldspruch wegen mehrfachen <span class=\"complete_match\" id=\"highlight_match_3025\">Mordes</span> sowie die Freiheitsstrafe von 20 Jahren (Dispositiv-Ziff. 1 und 2). Die erstinstanzlich angeordnete stationäre therapeutische Massnahme erwuchs unangefochten in Rechtskraft. Das Obergericht entschied, die Forderung von X. gegen die Privatkläger 1-3 auf Bezahlung von Fr. 100'000.- sowie dessen obligatorischer Anspruch gegen die Privatkläger 1-3 auf Übereignung der Stockwerkeigentumswohnung an der A.-Strasse in Zürich seien zur Kostendeckung zu verwenden; ein allfälliger Überschuss sei X. herauszugeben (Dispositiv-Ziff. 3).</div>,\n",
       " <div class=\"paraatf\">\n",
       " <a name=\"idp388624\"></a><span class=\"bold\">C. </span>Die Oberstaatsanwaltschaft des Kantons Zürich beantragt mit Beschwerde in Strafsachen, Dispositiv-Ziff. 3 des Urteils vom 15. Mai 2017 sei aufzuheben und die Forderung von X. gegen die Privatkläger 1-3 auf Bezahlung von Fr. 100'000.- sowie dessen obligatorischer Anspruch gegen die Privatkläger 1-3 auf Übereignung der Stockwerkeigentumswohnung an der A.-Strasse in Zürich seien zugunsten des Kantons Zürich einzuziehen. Eventualiter sei die Sache zur neuen Beurteilung an die Vorinstanz zurückzuweisen.</div>,\n",
       " <div class=\"paraatf\">Das Bundesgericht weist die Beschwerde ab, soweit es darauf eintritt.</div>,\n",
       " <div class=\"paraatf\">Aus den Erwägungen:</div>,\n",
       " <div class=\"paraatf\">\n",
       " <a name=\"idp395664\"></a><span class=\"bold\" id=\"consideration_2.\">2. </span>\n",
       " </div>,\n",
       " <div class=\"paraatf\">\n",
       " <a name=\"idp396672\"></a><span class=\"bold\" id=\"consideration_2.1\">2.1 </span>Die Beschwerdeführerin rügt eine Verletzung von <span class=\"artref\">Art. 70 StGB</span>. Sie macht geltend, der Beschwerdegegner habe die Forderung von Fr. 100'000.- und den Anspruch auf Übertragung der Stockwerkeigentumswohnung durch eine Straftat erlangt, weshalb diese gestützt auf <span class=\"artref\">Art. 70 Abs. 1 StGB</span> einzuziehen seien.</div>,\n",
       " <div class=\"paraatf\">\n",
       " <a name=\"idp401152\"></a><span class=\"bold\" id=\"consideration_2.2\">2.2 </span>Das Gericht verfügt gemäss <span class=\"artref\">Art. 70 Abs. 1 StGB</span> die Einziehung von Vermögenswerten, die durch eine Straftat erlangt worden sind oder dazu bestimmt waren, eine Straftat zu veranlassen oder zu belohnen, sofern sie nicht dem Verletzten zur Wiederherstellung des rechtmässigen Zustandes ausgehändigt werden. Die sogenannte <a name=\"page287\"></a><div class=\"center pagebreak\">BGE 144 IV 285 S. 287</div>Ausgleichseinziehung beruht auf dem Gedanken, dass sich strafbares Verhalten nicht lohnen darf (<a class=\"bgeref_id\" href=\"https://www.bger.ch/ext/eurospider/live/de/php/clir/http/index.php?lang=de&amp;type=highlight_simple_query&amp;page=1&amp;from_date=&amp;to_date=&amp;from_year=2017&amp;to_year=2019&amp;sort=relevance&amp;insertion_date=&amp;from_date_push=&amp;top_subcollection_clir=bge&amp;query_words=mord&amp;part=all&amp;de_fr=&amp;de_it=&amp;fr_de=&amp;fr_it=&amp;it_de=&amp;it_fr=&amp;orig=&amp;translation=&amp;rank=0&amp;highlight_docid=atf%3A%2F%2F144-IV-1%3Ade&amp;number_of_ranks=0&amp;azaclir=clir#page1\">BGE 144 IV 1</a> E. 4.2.1 S. 7; <a class=\"bgeref_id\" href=\"https://www.bger.ch/ext/eurospider/live/de/php/clir/http/index.php?lang=de&amp;type=highlight_simple_query&amp;page=1&amp;from_date=&amp;to_date=&amp;from_year=2017&amp;to_year=2019&amp;sort=relevance&amp;insertion_date=&amp;from_date_push=&amp;top_subcollection_clir=bge&amp;query_words=mord&amp;part=all&amp;de_fr=&amp;de_it=&amp;fr_de=&amp;fr_it=&amp;it_de=&amp;it_fr=&amp;orig=&amp;translation=&amp;rank=0&amp;highlight_docid=atf%3A%2F%2F141-IV-155%3Ade&amp;number_of_ranks=0&amp;azaclir=clir#page155\">BGE 141 IV 155</a> E. 4.1 S. 162; <a class=\"bgeref_id\" href=\"https://www.bger.ch/ext/eurospider/live/de/php/clir/http/index.php?lang=de&amp;type=highlight_simple_query&amp;page=1&amp;from_date=&amp;to_date=&amp;from_year=2017&amp;to_year=2019&amp;sort=relevance&amp;insertion_date=&amp;from_date_push=&amp;top_subcollection_clir=bge&amp;query_words=mord&amp;part=all&amp;de_fr=&amp;de_it=&amp;fr_de=&amp;fr_it=&amp;it_de=&amp;it_fr=&amp;orig=&amp;translation=&amp;rank=0&amp;highlight_docid=atf%3A%2F%2F140-IV-57%3Ade&amp;number_of_ranks=0&amp;azaclir=clir#page57\">BGE 140 IV 57</a> E. 4.1.1 S. 62; je mit Hinweisen). Sie setzt ein Verhalten voraus, das den objektiven und den subjektiven Tatbestand einer Strafnorm erfüllt und rechtswidrig ist (<a class=\"bgeref_id\" href=\"https://www.bger.ch/ext/eurospider/live/de/php/clir/http/index.php?lang=de&amp;type=highlight_simple_query&amp;page=1&amp;from_date=&amp;to_date=&amp;from_year=2017&amp;to_year=2019&amp;sort=relevance&amp;insertion_date=&amp;from_date_push=&amp;top_subcollection_clir=bge&amp;query_words=mord&amp;part=all&amp;de_fr=&amp;de_it=&amp;fr_de=&amp;fr_it=&amp;it_de=&amp;it_fr=&amp;orig=&amp;translation=&amp;rank=0&amp;highlight_docid=atf%3A%2F%2F141-IV-155%3Ade&amp;number_of_ranks=0&amp;azaclir=clir#page155\">BGE 141 IV 155</a> E. 4.1 S. 162; <a class=\"bgeref_id\" href=\"https://www.bger.ch/ext/eurospider/live/de/php/clir/http/index.php?lang=de&amp;type=highlight_simple_query&amp;page=1&amp;from_date=&amp;to_date=&amp;from_year=2017&amp;to_year=2019&amp;sort=relevance&amp;insertion_date=&amp;from_date_push=&amp;top_subcollection_clir=bge&amp;query_words=mord&amp;part=all&amp;de_fr=&amp;de_it=&amp;fr_de=&amp;fr_it=&amp;it_de=&amp;it_fr=&amp;orig=&amp;translation=&amp;rank=0&amp;highlight_docid=atf%3A%2F%2F129-IV-305%3Ade&amp;number_of_ranks=0&amp;azaclir=clir#page305\">BGE 129 IV 305</a> E. 4.2.1 S. 310 mit Hinweisen). Erforderlich ist zudem, dass zwischen der Straftat und dem erlangten Vermögenswert ein Zusammenhang besteht. Das Bundesgericht verlangte in seiner amtlich publizierten Rechtsprechung verschiedentlich, es müsse ein Kausalzusammenhang in dem Sinne bestehen, dass die Erlangung des Vermögenswerts als direkte und unmittelbare Folge der Straftat erscheint (<a class=\"bgeref_id\" href=\"https://www.bger.ch/ext/eurospider/live/de/php/clir/http/index.php?lang=de&amp;type=highlight_simple_query&amp;page=1&amp;from_date=&amp;to_date=&amp;from_year=2017&amp;to_year=2019&amp;sort=relevance&amp;insertion_date=&amp;from_date_push=&amp;top_subcollection_clir=bge&amp;query_words=mord&amp;part=all&amp;de_fr=&amp;de_it=&amp;fr_de=&amp;fr_it=&amp;it_de=&amp;it_fr=&amp;orig=&amp;translation=&amp;rank=0&amp;highlight_docid=atf%3A%2F%2F144-IV-1%3Ade&amp;number_of_ranks=0&amp;azaclir=clir#page1\">BGE 144 IV 1</a> E. 4.2.1 S. 7; <a class=\"bgeref_id\" href=\"https://www.bger.ch/ext/eurospider/live/de/php/clir/http/index.php?lang=de&amp;type=highlight_simple_query&amp;page=1&amp;from_date=&amp;to_date=&amp;from_year=2017&amp;to_year=2019&amp;sort=relevance&amp;insertion_date=&amp;from_date_push=&amp;top_subcollection_clir=bge&amp;query_words=mord&amp;part=all&amp;de_fr=&amp;de_it=&amp;fr_de=&amp;fr_it=&amp;it_de=&amp;it_fr=&amp;orig=&amp;translation=&amp;rank=0&amp;highlight_docid=atf%3A%2F%2F141-IV-155%3Ade&amp;number_of_ranks=0&amp;azaclir=clir#page155\">BGE 141 IV 155</a> E. 4.1 S. 162; <a class=\"bgeref_id\" href=\"https://www.bger.ch/ext/eurospider/live/de/php/clir/http/index.php?lang=de&amp;type=highlight_simple_query&amp;page=1&amp;from_date=&amp;to_date=&amp;from_year=2017&amp;to_year=2019&amp;sort=relevance&amp;insertion_date=&amp;from_date_push=&amp;top_subcollection_clir=bge&amp;query_words=mord&amp;part=all&amp;de_fr=&amp;de_it=&amp;fr_de=&amp;fr_it=&amp;it_de=&amp;it_fr=&amp;orig=&amp;translation=&amp;rank=0&amp;highlight_docid=atf%3A%2F%2F140-IV-57%3Ade&amp;number_of_ranks=0&amp;azaclir=clir#page57\">BGE 140 IV 57</a> E. 4.1.1 S. 62; <a class=\"bgeref_id\" href=\"https://www.bger.ch/ext/eurospider/live/de/php/clir/http/index.php?lang=de&amp;type=highlight_simple_query&amp;page=1&amp;from_date=&amp;to_date=&amp;from_year=2017&amp;to_year=2019&amp;sort=relevance&amp;insertion_date=&amp;from_date_push=&amp;top_subcollection_clir=bge&amp;query_words=mord&amp;part=all&amp;de_fr=&amp;de_it=&amp;fr_de=&amp;fr_it=&amp;it_de=&amp;it_fr=&amp;orig=&amp;translation=&amp;rank=0&amp;highlight_docid=atf%3A%2F%2F138-IV-1%3Ade&amp;number_of_ranks=0&amp;azaclir=clir#page1\">BGE 138 IV 1</a> E. 4.2.3.2 S. 7; <a class=\"bgeref_id\" href=\"https://www.bger.ch/ext/eurospider/live/de/php/clir/http/index.php?lang=de&amp;type=highlight_simple_query&amp;page=1&amp;from_date=&amp;to_date=&amp;from_year=2017&amp;to_year=2019&amp;sort=relevance&amp;insertion_date=&amp;from_date_push=&amp;top_subcollection_clir=bge&amp;query_words=mord&amp;part=all&amp;de_fr=&amp;de_it=&amp;fr_de=&amp;fr_it=&amp;it_de=&amp;it_fr=&amp;orig=&amp;translation=&amp;rank=0&amp;highlight_docid=atf%3A%2F%2F136-IV-4%3Ade&amp;number_of_ranks=0&amp;azaclir=clir#page4\">BGE 136 IV 4</a> E. 6.6 S. 13; <a class=\"bgeref_id\" href=\"https://www.bger.ch/ext/eurospider/live/de/php/clir/http/index.php?lang=de&amp;type=highlight_simple_query&amp;page=1&amp;from_date=&amp;to_date=&amp;from_year=2017&amp;to_year=2019&amp;sort=relevance&amp;insertion_date=&amp;from_date_push=&amp;top_subcollection_clir=bge&amp;query_words=mord&amp;part=all&amp;de_fr=&amp;de_it=&amp;fr_de=&amp;fr_it=&amp;it_de=&amp;it_fr=&amp;orig=&amp;translation=&amp;rank=0&amp;highlight_docid=atf%3A%2F%2F129-II-453%3Ade&amp;number_of_ranks=0&amp;azaclir=clir#page453\">BGE 129 II 453</a> E. 4.1 S. 461). Es betonte dabei auch, dass die Straftat die wesentliche respektive adäquate Ursache für die Erlangung des Vermögenswerts sein muss und der Vermögenswert typischerweise aus der Straftat herrühren muss (<a class=\"bgeref_id\" href=\"https://www.bger.ch/ext/eurospider/live/de/php/clir/http/index.php?lang=de&amp;type=highlight_simple_query&amp;page=1&amp;from_date=&amp;to_date=&amp;from_year=2017&amp;to_year=2019&amp;sort=relevance&amp;insertion_date=&amp;from_date_push=&amp;top_subcollection_clir=bge&amp;query_words=mord&amp;part=all&amp;de_fr=&amp;de_it=&amp;fr_de=&amp;fr_it=&amp;it_de=&amp;it_fr=&amp;orig=&amp;translation=&amp;rank=0&amp;highlight_docid=atf%3A%2F%2F141-IV-155%3Ade&amp;number_of_ranks=0&amp;azaclir=clir#page155\">BGE 141 IV 155</a> E. 4.1 S. 162; <a class=\"bgeref_id\" href=\"https://www.bger.ch/ext/eurospider/live/de/php/clir/http/index.php?lang=de&amp;type=highlight_simple_query&amp;page=1&amp;from_date=&amp;to_date=&amp;from_year=2017&amp;to_year=2019&amp;sort=relevance&amp;insertion_date=&amp;from_date_push=&amp;top_subcollection_clir=bge&amp;query_words=mord&amp;part=all&amp;de_fr=&amp;de_it=&amp;fr_de=&amp;fr_it=&amp;it_de=&amp;it_fr=&amp;orig=&amp;translation=&amp;rank=0&amp;highlight_docid=atf%3A%2F%2F138-IV-1%3Ade&amp;number_of_ranks=0&amp;azaclir=clir#page1\">BGE 138 IV 1</a> E. 4.2.3.2 S. 7; <a class=\"bgeref_id\" href=\"https://www.bger.ch/ext/eurospider/live/de/php/clir/http/index.php?lang=de&amp;type=highlight_simple_query&amp;page=1&amp;from_date=&amp;to_date=&amp;from_year=2017&amp;to_year=2019&amp;sort=relevance&amp;insertion_date=&amp;from_date_push=&amp;top_subcollection_clir=bge&amp;query_words=mord&amp;part=all&amp;de_fr=&amp;de_it=&amp;fr_de=&amp;fr_it=&amp;it_de=&amp;it_fr=&amp;orig=&amp;translation=&amp;rank=0&amp;highlight_docid=atf%3A%2F%2F136-IV-4%3Ade&amp;number_of_ranks=0&amp;azaclir=clir#page4\">BGE 136 IV 4</a> E. 6.6 S. 13; Urteile 6B_366/2015 vom 9. Februar 2016 E. 2.3.1; 6S.667/2000 vom 19. Februar 2001 E. 3a). Gleichzeitig ging es aber davon aus, dass auch bloss indirekt durch eine strafbare Handlung erlangte Vermögenswerte der Einziehung unterliegen können (vgl. etwa <a class=\"bgeref_id\" href=\"https://www.bger.ch/ext/eurospider/live/de/php/clir/http/index.php?lang=de&amp;type=highlight_simple_query&amp;page=1&amp;from_date=&amp;to_date=&amp;from_year=2017&amp;to_year=2019&amp;sort=relevance&amp;insertion_date=&amp;from_date_push=&amp;top_subcollection_clir=bge&amp;query_words=mord&amp;part=all&amp;de_fr=&amp;de_it=&amp;fr_de=&amp;fr_it=&amp;it_de=&amp;it_fr=&amp;orig=&amp;translation=&amp;rank=0&amp;highlight_docid=atf%3A%2F%2F144-IV-1%3Ade&amp;number_of_ranks=0&amp;azaclir=clir#page1\">BGE 144 IV 1</a> E. 4.2.2 S. 7 f.; <a class=\"bgeref_id\" href=\"https://www.bger.ch/ext/eurospider/live/de/php/clir/http/index.php?lang=de&amp;type=highlight_simple_query&amp;page=1&amp;from_date=&amp;to_date=&amp;from_year=2017&amp;to_year=2019&amp;sort=relevance&amp;insertion_date=&amp;from_date_push=&amp;top_subcollection_clir=bge&amp;query_words=mord&amp;part=all&amp;de_fr=&amp;de_it=&amp;fr_de=&amp;fr_it=&amp;it_de=&amp;it_fr=&amp;orig=&amp;translation=&amp;rank=0&amp;highlight_docid=atf%3A%2F%2F137-IV-79%3Ade&amp;number_of_ranks=0&amp;azaclir=clir#page79\">BGE 137 IV 79</a> E. 3.2 S. 81 f.; <a class=\"bgeref_id\" href=\"https://www.bger.ch/ext/eurospider/live/de/php/clir/http/index.php?lang=de&amp;type=highlight_simple_query&amp;page=1&amp;from_date=&amp;to_date=&amp;from_year=2017&amp;to_year=2019&amp;sort=relevance&amp;insertion_date=&amp;from_date_push=&amp;top_subcollection_clir=bge&amp;query_words=mord&amp;part=all&amp;de_fr=&amp;de_it=&amp;fr_de=&amp;fr_it=&amp;it_de=&amp;it_fr=&amp;orig=&amp;translation=&amp;rank=0&amp;highlight_docid=atf%3A%2F%2F125-IV-4%3Ade&amp;number_of_ranks=0&amp;azaclir=clir#page4\">BGE 125 IV 4</a> E. 2a/bb S. 7; <a class=\"bgeref_id\" href=\"https://www.bger.ch/ext/eurospider/live/de/php/clir/http/index.php?lang=de&amp;type=highlight_simple_query&amp;page=1&amp;from_date=&amp;to_date=&amp;from_year=2017&amp;to_year=2019&amp;sort=relevance&amp;insertion_date=&amp;from_date_push=&amp;top_subcollection_clir=bge&amp;query_words=mord&amp;part=all&amp;de_fr=&amp;de_it=&amp;fr_de=&amp;fr_it=&amp;it_de=&amp;it_fr=&amp;orig=&amp;translation=&amp;rank=0&amp;highlight_docid=atf%3A%2F%2F120-IV-365%3Ade&amp;number_of_ranks=0&amp;azaclir=clir#page365\">BGE 120 IV 365</a> E. 1d S. 367; Urteile 6B_1099/2014 vom 19. August 2015 E. 2.2; 1B_713/2012 vom 21. Mai 2013 E. 4.2).</div>,\n",
       " <div class=\"paraatf\">Der Vorteil muss nach der Rechtsprechung \"in sich\" unrechtmässig sein. Dies ist nicht der Fall, wenn die fragliche Handlung objektiv nicht verboten ist. Vermögenswerte, die aus einem objektiv legalen Geschäft stammen, sind nicht einziehbar (<a class=\"bgeref_id\" href=\"https://www.bger.ch/ext/eurospider/live/de/php/clir/http/index.php?lang=de&amp;type=highlight_simple_query&amp;page=1&amp;from_date=&amp;to_date=&amp;from_year=2017&amp;to_year=2019&amp;sort=relevance&amp;insertion_date=&amp;from_date_push=&amp;top_subcollection_clir=bge&amp;query_words=mord&amp;part=all&amp;de_fr=&amp;de_it=&amp;fr_de=&amp;fr_it=&amp;it_de=&amp;it_fr=&amp;orig=&amp;translation=&amp;rank=0&amp;highlight_docid=atf%3A%2F%2F141-IV-155%3Ade&amp;number_of_ranks=0&amp;azaclir=clir#page155\">BGE 141 IV 155</a> E. 4.1 S. 162; <a class=\"bgeref_id\" href=\"https://www.bger.ch/ext/eurospider/live/de/php/clir/http/index.php?lang=de&amp;type=highlight_simple_query&amp;page=1&amp;from_date=&amp;to_date=&amp;from_year=2017&amp;to_year=2019&amp;sort=relevance&amp;insertion_date=&amp;from_date_push=&amp;top_subcollection_clir=bge&amp;query_words=mord&amp;part=all&amp;de_fr=&amp;de_it=&amp;fr_de=&amp;fr_it=&amp;it_de=&amp;it_fr=&amp;orig=&amp;translation=&amp;rank=0&amp;highlight_docid=atf%3A%2F%2F137-IV-305%3Ade&amp;number_of_ranks=0&amp;azaclir=clir#page305\">BGE 137 IV 305</a> E. 3.1 S. 307 f.; <a class=\"bgeref_id\" href=\"https://www.bger.ch/ext/eurospider/live/de/php/clir/http/index.php?lang=de&amp;type=highlight_simple_query&amp;page=1&amp;from_date=&amp;to_date=&amp;from_year=2017&amp;to_year=2019&amp;sort=relevance&amp;insertion_date=&amp;from_date_push=&amp;top_subcollection_clir=bge&amp;query_words=mord&amp;part=all&amp;de_fr=&amp;de_it=&amp;fr_de=&amp;fr_it=&amp;it_de=&amp;it_fr=&amp;orig=&amp;translation=&amp;rank=0&amp;highlight_docid=atf%3A%2F%2F125-IV-4%3Ade&amp;number_of_ranks=0&amp;azaclir=clir#page4\">BGE 125 IV 4</a> E. 2a/bb S. 7). Ein Vermögenswert gilt nicht durch die Straftat erlangt, wenn diese lediglich die spätere Erlangung des Vermögenswerts durch eine nachfolgende Handlung erleichtert hat, welche nicht in unmittelbarem Zusammenhang mit der Straftat steht (Urteile 6B_425/2011 vom 10. April 2012 E. 5.3; 6S.667/2000 vom 19. Februar 2001 E. 3a).</div>,\n",
       " <div class=\"paraatf\">\n",
       " <a name=\"idp452352\"></a><span class=\"bold\" id=\"consideration_2.3\">2.3 </span>Der Beschwerdegegner tötete am 11. Oktober 2014 seine Eltern. Er wurde deswegen von der Vorinstanz des mehrfachen <span class=\"complete_match\" id=\"highlight_match_9277\">Mordes</span> schuldig gesprochen (Urteil vom 15. Mai 2017). Der Schuldspruch ist in Rechtskraft erwachsen. Als einziger Sohn seiner Eltern wäre er grundsätzlich deren Alleinerbe gewesen (<span class=\"artref\">Art. 457 Abs. 1 ZGB</span>). <a name=\"page288\"></a><div class=\"center pagebreak\">BGE 144 IV 285 S. 288</div>Angesichts des rechtskräftigen Schuldspruchs wegen <span class=\"complete_match\" id=\"highlight_match_9688\">Mordes</span> ist jedoch von der Erbunwürdigkeit des Beschwerdegegners auszugehen (<span class=\"artref\">Art. 540 Abs. 1 Ziff. 1 ZGB</span>). Da dieser selber keine Nachkommen hatte (<span class=\"artref\">Art. 457 Abs. 3 und <artref id=\"CH/210/541/2\" type=\"start\"></artref>Art. 541 Abs. 2 ZGB</span><artref id=\"CH/210/457/3\" type=\"end\"></artref>), gelangte die Erbschaft an die Privatkläger 1-3 als Geschwister der Getöteten (<span class=\"artref\">Art. 458 Abs. 3 ZGB</span>).</div>,\n",
       " <div class=\"paraatf\">Die Privatkläger 1-3 und der Beschwerdegegner unterzeichneten am 4. März 2016 eine öffentlich beurkundete Vereinbarung, wonach der Beschwerdegegner auf eine Erbenstellung verzichtete. Im Gegenzug verpflichteten sich die Privatkläger 1-3 als Erben der Eltern des Beschwerdegegners, diesem aus dem Nachlass die Stockwerkeigentumswohnung an der A.-Strasse in Zürich sowie Fr. 100'000.- in bar zu übertragen. Gemäss Inventar belief sich der Nettonachlass des Vaters des Beschwerdegegners auf rund 2,2 Mio. Fr. und derjenige seiner Mutter auf rund 1,5 Mio. Fr.</div>,\n",
       " <div class=\"paraatf\">\n",
       " <a name=\"idp464288\"></a><span class=\"bold\" id=\"consideration_2.4\">2.4 </span>Die Vorinstanz erwägt, beim zwischen dem Beschwerdegegner und den Privatklägern 1-3 abgeschlossenen Vergleich handle es sich um ein zulässiges Rechtsgeschäft und somit um eine objektiv nicht verbotene Handlung. Es könne deshalb nicht auf die Unrechtmässigkeit des erlangten Vorteils geschlossen werden. Zudem sei nicht von einem monetären Motiv des Beschwerdegegners auszugehen. Von einer Belohnung - welche durch eine Einziehung verhindert werden solle - könne auch nicht die Rede sein. Durch die Tat habe der Beschwerdegegner zwar (früher) Vermögenswerte erlangt, jedoch wohl nicht in dem Umfang, wie wenn seine Eltern in ungewisser Zukunft eines natürlichen Todes gestorben wären und er normaler Erbe gewesen wäre. Es sei daher keine Ausgleichseinziehung nach <span class=\"artref\">Art. 70 Abs. 1 StGB</span>, sondern eine Beschlagnahme zur Kostendeckung vorzunehmen, wobei ein allfälliger Mehrbetrag an den Beschwerdegegner herauszugeben sei.</div>,\n",
       " <div class=\"paraatf\">\n",
       " <a name=\"idp468816\"></a><span class=\"bold\" id=\"consideration_2.5\">2.5 </span>\n",
       " </div>,\n",
       " <div class=\"paraatf\">\n",
       " <a name=\"idp469856\"></a><span class=\"bold\" id=\"consideration_2.5.1\">2.5.1 </span>Wer vorsätzlich und rechtswidrig den Tod des Erblassers herbeigeführt oder herbeizuführen versucht hat, ist unwürdig, Erbe zu sein oder aus einer Verfügung von Todes wegen irgendetwas zu erwerben (<span class=\"artref\">Art. 540 Abs. 1 Ziff. 1 ZGB</span>). Durch Verzeihung des Erblassers wird die Erbunwürdigkeit aufgehoben (<span class=\"artref\">Art. 540 Abs. 2 ZGB</span>).</div>,\n",
       " <div class=\"paraatf\">Mit der Erbunwürdigkeit soll verhindert werden, dass eine Person Güter aus dem Nachlass des Verstorbenen erwirbt, wenn dieser keine Möglichkeit hatte, die betroffene Person durch Verfügung von <a name=\"page289\"></a><div class=\"center pagebreak\">BGE 144 IV 285 S. 289</div>Todes wegen (vgl. <span class=\"artref\">Art. 477 ZGB</span>) von der Erbschaft auszuschliessen. Die Regel geht vom hypothetischen Willen des Erblassers aus (PAUL-HENRI STEINAUER, Le droit des successions, 2. Aufl. 2015, N. 944a Fn. 39 S. 502; COUCHEPIN/MAIRE, Commentaire du droit des successions, 2012, N. 2 zu <span class=\"artref\">Art. 540 ZGB</span>). Die Erbunwürdigkeit tritt von Gesetzes wegen ein und sie ist durch Behörden und Gerichte von Amtes wegen zu berücksichtigen. An der Erbunwürdigkeit bestehe insoweit ein allgemeines Interesse (<a class=\"bgeref_id\" href=\"https://www.bger.ch/ext/eurospider/live/de/php/clir/http/index.php?lang=de&amp;type=highlight_simple_query&amp;page=1&amp;from_date=&amp;to_date=&amp;from_year=2017&amp;to_year=2019&amp;sort=relevance&amp;insertion_date=&amp;from_date_push=&amp;top_subcollection_clir=bge&amp;query_words=mord&amp;part=all&amp;de_fr=&amp;de_it=&amp;fr_de=&amp;fr_it=&amp;it_de=&amp;it_fr=&amp;orig=&amp;translation=&amp;rank=0&amp;highlight_docid=atf%3A%2F%2F132-III-315%3Ade&amp;number_of_ranks=0&amp;azaclir=clir#page315\">BGE 132 III 315</a> E. 2.2 S. 319 f., <a class=\"bgeref_id\" href=\"https://www.bger.ch/ext/eurospider/live/de/php/clir/http/index.php?lang=de&amp;type=highlight_simple_query&amp;page=1&amp;from_date=&amp;to_date=&amp;from_year=2017&amp;to_year=2019&amp;sort=relevance&amp;insertion_date=&amp;from_date_push=&amp;top_subcollection_clir=bge&amp;query_words=mord&amp;part=all&amp;de_fr=&amp;de_it=&amp;fr_de=&amp;fr_it=&amp;it_de=&amp;it_fr=&amp;orig=&amp;translation=&amp;rank=0&amp;highlight_docid=atf%3A%2F%2F132-III-305%3Ade&amp;number_of_ranks=0&amp;azaclir=clir#page305\">BGE 132 III 305</a>  E. 3.3 S. 310). Die Bestimmungen über die Erbunwürdigkeit sind zwingender Natur (IVO SCHWANDER, in: Basler Kommentar, Zivilgesetzbuch, Bd. II, 5. Aufl. 2015, N. 24 zu <span class=\"artref\">Art. 540 ZGB</span>; FRANÇOIS CHAIX, in: Commentaire romand, Code civil, Bd. II, 2. Aufl. 2017, N. 14 zu Art. 540/541 ZGB; STEINAUER, a.a.O., N. 943 S. 501; COUCHEPIN/MAIRE, a.a.O., N. 3 und 28 zu <span class=\"artref\">Art. 540 ZGB</span>). Die Erbunwürdigkeit tritt ein, ohne dass die Erben sie geltend machen. Diese können nicht auf die Geltendmachung der Erbunwürdigkeit verzichten (SCHWANDER, a.a.O., N. 24 zu <span class=\"artref\">Art. 540 ZGB</span>). Die Regelung über die Erbunwürdigkeit dient dem Schutz des Erblassers, indem sie dem Verantwortlichen den Nutzen seines vorwerfbaren bzw. strafbaren Verhaltens gegenüber dem Erblasser entzieht (STEINAUER, a.a.O., N. 929 S. 496). Sie wurde im öffentlichen Interesse erlassen und gelangt zur Anwendung, wenn die Beteiligung eines Erben an der Erbschaft gegen die Rechtsordnung und die Moral verstossen würde (ANTOINE EIGENMANN, Action en nullité et indignité, in: Journée de droit successoral 2017, 2017, N. 12 S. 44).</div>,\n",
       " <div class=\"paraatf\"><span class=\"artref\">Art. 540 Abs. 1 Ziff. 1 ZGB</span> entspricht der Rechtsparömie \"Blutige Hand nimmt kein Erbe\" (ARNOLD ESCHER, Zürcher Kommentar, Bd. III.2: Der Erbgang, 3. Aufl. 1960, N. 8 zu <span class=\"artref\">Art. 540 ZGB</span>; STEINAUER, a.a.O., N. 936 S. 497). Im Rahmen von <span class=\"artref\">Art. 540 Abs. 1 Ziff. 1 ZGB</span> nicht erforderlich ist, dass die erbunwürdige Person sich oder einem Dritten einen erbrechtlichen Vorteil verschaffen will. Erstere nimmt durch ihre Tat willentlich Einfluss auf den Erbgang: dies reicht für die Annahme der Erbunwürdigkeit aus (PAUL PIOTET, Droit successoral, TDPS, Bd. IV, 2. Aufl. 1988, S. 501; COUCHEPIN/MAIRE, a.a.O., N. 15 zu <span class=\"artref\">Art. 540 ZGB</span>). Für PIOTET (a.a.O., S. 499 und 505) bildet die in <span class=\"artref\">Art. 540 Abs. 1 Ziff. 1 ZGB</span> verankerte Erbunwürdigkeit Bestandteil des \"Ordre public\" und ist von allen zu beachten, d.h. auch von den Personen, welche aufgrund der Erbunwürdigkeit als Erben zum Zuge kommen und welche unter <a name=\"page290\"></a><div class=\"center pagebreak\">BGE 144 IV 285 S. 290</div>gewissen Umständen ein Interesse an einer Einigung mit der erbunwürdigen Person haben können.</div>,\n",
       " <div class=\"paraatf\">\n",
       " <a name=\"idp501888\"></a><span class=\"bold\" id=\"consideration_2.5.2\">2.5.2 </span>Gemäss lit. D der Präambel der Vereinbarung vom 4. März 2016 wollten die Parteien mit der Vereinbarung eine möglicherweise langwierige und kostspielige prozessuale Auseinandersetzung über die Erbenstellung des Beschwerdegegners und damit auch über die Berechtigung der Parteien an den Nachlässen der Opfer vermeiden. Dem Beschwerdegegner wurde in der Vereinbarung keine Erbenstellung eingeräumt. Dieser verzichtete vielmehr ausdrücklich auf eine allfällige Erbenstellung. Im Gegenzug dafür verpflichteten sich die Privatkläger 1-3 als Erben, ihm eine Stockwerkeigentumswohnung sowie Fr. 100'000.- in bar aus dem Nachlass zu übertragen. Bei den zugesprochenen Vermögenswerten handelt es sich daher um eine Gegenleistung für die explizite Anerkennung der Erbunwürdigkeit. Der Beschwerdegegner erhielt damit nicht die rechtliche Stellung, die er mangels Erbunwürdigkeit gehabt hätte, da er nicht in die Erbengemeinschaft aufgenommen wurde. Die Parteien bezweckten mit der Vereinbarung vom 4. März 2016 nicht, die Erbunwürdigkeit des Beschwerdegegners nach <span class=\"artref\">Art. 540 Abs. 1 Ziff. 1 ZGB</span> zu umgehen. Sie wollten damit, gegen Bezahlung einer Geldsumme und Übereignung einer Immobilie, vielmehr erreichen, dass der Beschwerdegegner seine Erbunwürdigkeit nicht infrage stellt. Es ist daher von der Gültigkeit der Vereinbarung vom 4. März 2016 auszugehen.</div>,\n",
       " <div class=\"paraatf\">\n",
       " <a name=\"idp506960\"></a><span class=\"bold\" id=\"consideration_2.6\">2.6 </span>Die Vorinstanz legt zutreffend dar, dass der Beschwerdegegner den Anspruch auf Übertragung der Stockwerkeigentumswohnung und auf Bezahlung der Fr. 100'000.- nicht direkt durch die Tötungsdelikte, welche nach <span class=\"artref\">Art. 540 Abs. 1 Ziff. 1 ZGB</span> seine Erbunwürdigkeit zur Folge hatten, sondern erst aufgrund des zwischen ihm und den Privatklägern 1-3 abgeschlossenen Rechtsgeschäfts erlangte. Das Rechtsgeschäft zwischen den Privatklägern 1-3 und dem Beschwerdegegner als solches ist wie dargelegt nicht illegal. Die Vorinstanz entschied daher zu Recht, die Voraussetzungen für eine Einziehung nach <span class=\"artref\">Art. 70 Abs. 1 StGB</span> seien nicht erfüllt.</div>,\n",
       " <div class=\"paraatf\">Die Argumentation der Beschwerdeführerin zielt darauf ab, die zwischen den Erben und dem Beschwerdegegner abgeschlossene Vereinbarung zu verunmöglichen bzw. für unzulässig zu erklären. Dies ergibt sich auch daraus, dass die Beschwerdeführerin die Befürchtung äussert, die Privatkläger 1-3 könnten, falls ihnen die  <a name=\"page291\"></a><div class=\"center pagebreak\">BGE 144 IV 285 S. 291</div>Vermögenswerte nach einer Einziehung zugewiesen würden, diese dem Beschwerdegegner im Nachgang schenken, womit gemäss der Beschwerdeführerin das öffentliche Interesse an der Durchsetzung des Grundsatzes \"Straftaten dürfen sich nicht lohnen\" ausgehebelt würde. Eine solche generelle Unzulässigerklärung von Schenkungen der Privatkläger 1-3 an den Beschwerdegegner erscheint mit dem Recht, über sein Eigentum grundsätzlich frei zu verfügen, jedoch unvereinbar. Die Vereinbarung vom 4. März 2016 war zulässig. Unerheblich ist, dass - wie von der Beschwerdeführerin geltend gemacht - im Zeitpunkt der Unterzeichnung der Vereinbarung noch nicht sicher feststand, ob der Beschwerdegegner auch wirklich erbunwürdig war. Wäre es nicht der Wille der Privatkläger 1-3 gewesen, diesem trotz seiner Erbunwürdigkeit einen Teil des Nachlasses seiner Eltern zukommen zu lassen, hätten die Privatkläger 1-3 mit der erbrechtlichen Auseinandersetzung bis zum Abschluss des Strafverfahrens zuwarten können.</div>,\n",
       " <div class=\"paraatf\">\n",
       " <a name=\"idp516112\"></a><span class=\"bold\" id=\"consideration_2.7\">2.7 </span>Die Situation ist auch nicht vergleichbar mit einem Verzicht des Geschädigten gegenüber dem Beschuldigten auf einen Teil seiner Schadenersatz- bzw. Restitutionsansprüche, was gemäss der Rechtsprechung einer Einziehung nicht entgegensteht (<a class=\"bgeref_id\" href=\"https://www.bger.ch/ext/eurospider/live/de/php/clir/http/index.php?lang=de&amp;type=highlight_simple_query&amp;page=1&amp;from_date=&amp;to_date=&amp;from_year=2017&amp;to_year=2019&amp;sort=relevance&amp;insertion_date=&amp;from_date_push=&amp;top_subcollection_clir=bge&amp;query_words=mord&amp;part=all&amp;de_fr=&amp;de_it=&amp;fr_de=&amp;fr_it=&amp;it_de=&amp;it_fr=&amp;orig=&amp;translation=&amp;rank=0&amp;highlight_docid=atf%3A%2F%2F139-IV-209%3Ade&amp;number_of_ranks=0&amp;azaclir=clir#page209\">BGE 139 IV 209</a> E. 5 S. 210 ff.). Die Privatkläger 1-3 haben nicht auf einen ihnen zustehenden deliktischen Erlös verzichtet, sondern sie liessen dem Beschwerdegegner durch ein legales Rechtsgeschäft Vermögenswerte zukommen, die sie durch Erbschaft erlangt haben.</div>,\n",
       " <div class=\"paraatf\">\n",
       " <a name=\"idp520256\"></a><span class=\"bold\" id=\"consideration_2.8\">2.8 </span>\n",
       " </div>,\n",
       " <div class=\"paraatf\">\n",
       " <a name=\"idp521296\"></a><span class=\"bold\" id=\"consideration_2.8.1\">2.8.1 </span>Die Beschwerdeführerin macht geltend, die bundesgerichtliche Rechtsprechung zur Frage, ob auch indirekt durch eine Straftat erlangte Vermögenswerte eingezogen werden können, sei uneinheitlich. Sie argumentiert zudem, die Einziehung dürfe nicht vom Vorliegen eines adäquaten Kausalzusammenhangs abhängig gemacht werden. Das Zuordnungskriterium des \"adäquaten Kausalzusammenhangs\" sei für die allgemeine Verbrechenslehre entwickelt worden. Mit der Adäquanz werde sichergestellt, dass die strafrechtliche Haftung nicht über die Fähigkeit des Menschen, Kausalabläufe zu steuern und zu beherrschen, hinausgehe. Bezüglich der Vermögenseinziehung sei eine derartige Beschränkung der einziehbaren Vermögenswerte weder sinnvoll noch nötig. Der Beschwerdegegner habe erst aufgrund der Tötungsdelikte überhaupt die Stellung eines potentiellen Erben erlangt, in welcher er mit den Privatklägern 1-3 <a name=\"page292\"></a><div class=\"center pagebreak\">BGE 144 IV 285 S. 292</div>über seine Erbenstellung habe verhandeln können. Die potentielle Erbenstellung habe er direkt und unmittelbar durch die Tötungsdelikte erlangt, weshalb der Kausalzusammenhang zwischen Anlasstat und erlangtem Vermögenswert als gegeben zu betrachten sei. Die Beschwerdeführerin kritisiert zudem die bundesgerichtliche Rechtsprechung, wonach Vermögenswerte aus einem objektiv legalen Rechtsgeschäft nicht der Einziehung unterliegen. Sie beanstandet, das Bundesgericht habe diesen Ausschlussgrund in zahlreichen Entscheiden, insbesondere etwa im Zusammenhang mit Bestechungshandlungen, nicht geprüft, obschon die Vermögenswerte durch zivilrechtliche Rechtsgeschäfte erlangt worden seien.</div>,\n",
       " <div class=\"paraatf\">\n",
       " <a name=\"idp526208\"></a><span class=\"bold\" id=\"consideration_2.8.2\">2.8.2 </span>Ein adäquater Kausalzusammenhang liegt nach ständiger Rechtsprechung vor, wenn ein Umstand nicht nur \"conditio sine qua non\", sondern nach dem gewöhnlichen Lauf der Dinge und der allgemeinen Lebenserfahrung auch geeignet ist, den eingetretenen Erfolg zu bewirken, so dass der Eintritt dieses Erfolgs als durch die fragliche Bedingung wesentlich begünstigt erscheint (vgl. <a class=\"bgeref_id\" href=\"https://www.bger.ch/ext/eurospider/live/de/php/clir/http/index.php?lang=de&amp;type=highlight_simple_query&amp;page=1&amp;from_date=&amp;to_date=&amp;from_year=2017&amp;to_year=2019&amp;sort=relevance&amp;insertion_date=&amp;from_date_push=&amp;top_subcollection_clir=bge&amp;query_words=mord&amp;part=all&amp;de_fr=&amp;de_it=&amp;fr_de=&amp;fr_it=&amp;it_de=&amp;it_fr=&amp;orig=&amp;translation=&amp;rank=0&amp;highlight_docid=atf%3A%2F%2F143-II-661%3Ade&amp;number_of_ranks=0&amp;azaclir=clir#page661\">BGE 143 II 661</a> E. 5.1.2 S. 667 f.; <a class=\"bgeref_id\" href=\"https://www.bger.ch/ext/eurospider/live/de/php/clir/http/index.php?lang=de&amp;type=highlight_simple_query&amp;page=1&amp;from_date=&amp;to_date=&amp;from_year=2017&amp;to_year=2019&amp;sort=relevance&amp;insertion_date=&amp;from_date_push=&amp;top_subcollection_clir=bge&amp;query_words=mord&amp;part=all&amp;de_fr=&amp;de_it=&amp;fr_de=&amp;fr_it=&amp;it_de=&amp;it_fr=&amp;orig=&amp;translation=&amp;rank=0&amp;highlight_docid=atf%3A%2F%2F143-III-242%3Ade&amp;number_of_ranks=0&amp;azaclir=clir#page242\">BGE 143 III 242</a> E. 3.7 S. 250; <a class=\"bgeref_id\" href=\"https://www.bger.ch/ext/eurospider/live/de/php/clir/http/index.php?lang=de&amp;type=highlight_simple_query&amp;page=1&amp;from_date=&amp;to_date=&amp;from_year=2017&amp;to_year=2019&amp;sort=relevance&amp;insertion_date=&amp;from_date_push=&amp;top_subcollection_clir=bge&amp;query_words=mord&amp;part=all&amp;de_fr=&amp;de_it=&amp;fr_de=&amp;fr_it=&amp;it_de=&amp;it_fr=&amp;orig=&amp;translation=&amp;rank=0&amp;highlight_docid=atf%3A%2F%2F142-IV-237%3Ade&amp;number_of_ranks=0&amp;azaclir=clir#page237\">BGE 142 IV 237</a> E. 1.5.2 S. 244; je mit Hinweisen). Damit wird die Vorwerfbarkeit einer Schädigung Dritter eingeschränkt, indem geprüft wird, ob die Schädigung nach dem gewöhnlichen Lauf der Dinge und der allgemeinen Lebenserfahrung voraussehbar war. Darauf stellt die zur Einziehung ergangene Rechtsprechung indes nicht ab. Die Voraussehbarkeit ist kein Kriterium für die Einziehung, da - wie die Beschwerdeführerin zu Recht geltend macht - grundsätzlich alle durch eine Straftat erlangten finanziellen Profite abzuschöpfen sind, dies auch dann, wenn der Täter durch seine Tat unerwartet zu einem solchen Vermögensvorteil gelangte. Im Zusammenhang mit der Einziehung zu prüfen ist hingegen, ob der Täter den Vermögensvorteil auch ohne die Straftat bzw. auch bei rechtmässigem Alternativverhalten erlangt hätte. Entscheidend hierfür ist der hypothetische Kausalverlauf ohne die Straftat (vgl. etwa <a class=\"bgeref_id\" href=\"https://www.bger.ch/ext/eurospider/live/de/php/clir/http/index.php?lang=de&amp;type=highlight_simple_query&amp;page=1&amp;from_date=&amp;to_date=&amp;from_year=2017&amp;to_year=2019&amp;sort=relevance&amp;insertion_date=&amp;from_date_push=&amp;top_subcollection_clir=bge&amp;query_words=mord&amp;part=all&amp;de_fr=&amp;de_it=&amp;fr_de=&amp;fr_it=&amp;it_de=&amp;it_fr=&amp;orig=&amp;translation=&amp;rank=0&amp;highlight_docid=atf%3A%2F%2F137-IV-79%3Ade&amp;number_of_ranks=0&amp;azaclir=clir#page79\">BGE 137 IV 79</a> E. 3.3 S. 82 f.; Urteil 6B_425 2011 vom 10. April 2012 E. 5.4-5.6). Darauf nimmt die Rechtsprechung zur Einziehung Bezug, wenn verlangt wird, dass die Straftat die wesentliche bzw. adäquate Ursache für die Erlangung des Vermögenswerts ist (vgl. dazu die oben unter E. 2.2 zitierten Entscheide).</div>,\n",
       " <div class=\"paraatf\">\n",
       " <a name=\"idp538864\"></a><span class=\"bold\" id=\"consideration_2.8.3\">2.8.3 </span>Zutreffend ist, dass die bundesgerichtlichen Erwägungen zur Frage, ob der Vermögenswert direkte und unmittelbare Folge der <a name=\"page293\"></a><div class=\"center pagebreak\">BGE 144 IV 285 S. 293</div>Straftat sein muss oder ob auch bloss indirekt durch eine Straftat erlangte Vermögenswerte eingezogen werden können, nicht immer einheitlich ausfielen (vgl. oben E. 2.2 erster Abs.). Die Rechtsprechung betonte jedoch stets, dass der Vermögensvorteil auf die Straftat zurückzuführen sein muss, was nicht der Fall ist, wenn dieser auch ohne die strafbare Handlung angefallen wäre.</div>,\n",
       " <div class=\"paraatf\">Nicht einziehbar sind nach der Rechtsprechung Vermögenswerte, die aus einem objektiv legalen Rechtsgeschäft stammen, welches nicht in unmittelbarem Zusammenhang mit der Straftat steht, auch wenn eine Straftat dieses erleichtert haben mag (vgl. oben E. 2.2 zweiter Abs.). An dieser Rechtsprechung ist entgegen der Kritik der Beschwerdeführerin festzuhalten. Vermögenswerte, die aus einem mittels Korruption abgeschlossenen Rechtsgeschäft herrühren, können Einziehungsobjekt sein (<a class=\"bgeref_id\" href=\"https://www.bger.ch/ext/eurospider/live/de/php/clir/http/index.php?lang=de&amp;type=highlight_simple_query&amp;page=1&amp;from_date=&amp;to_date=&amp;from_year=2017&amp;to_year=2019&amp;sort=relevance&amp;insertion_date=&amp;from_date_push=&amp;top_subcollection_clir=bge&amp;query_words=mord&amp;part=all&amp;de_fr=&amp;de_it=&amp;fr_de=&amp;fr_it=&amp;it_de=&amp;it_fr=&amp;orig=&amp;translation=&amp;rank=0&amp;highlight_docid=atf%3A%2F%2F137-IV-79%3Ade&amp;number_of_ranks=0&amp;azaclir=clir#page79\">BGE 137 IV 79</a> E. 3.2 S. 81 f.; Urteil 6B_1099/2014 vom 19. August 2015 E. 2.2). Wäre das Rechtsgeschäft ohne die strafbare Bestechungshandlung nicht zustandegekommen, kann klarerweise nicht von einem objektiv legalen Rechtsgeschäft im Sinne der Rechtsprechung ausgegangen werden. In <a class=\"bgeref_id\" href=\"https://www.bger.ch/ext/eurospider/live/de/php/clir/http/index.php?lang=de&amp;type=highlight_simple_query&amp;page=1&amp;from_date=&amp;to_date=&amp;from_year=2017&amp;to_year=2019&amp;sort=relevance&amp;insertion_date=&amp;from_date_push=&amp;top_subcollection_clir=bge&amp;query_words=mord&amp;part=all&amp;de_fr=&amp;de_it=&amp;fr_de=&amp;fr_it=&amp;it_de=&amp;it_fr=&amp;orig=&amp;translation=&amp;rank=0&amp;highlight_docid=atf%3A%2F%2F137-IV-79%3Ade&amp;number_of_ranks=0&amp;azaclir=clir#page79\">BGE 137 IV 79</a> verneinte das Bundesgericht einen einziehbaren Vermögenswert deliktischer Herkunft, weil in tatsächlicher Hinsicht nicht erstellt war, dass das Rechtsgeschäft ohne die Bestechungshandlung nicht abgeschlossen worden wäre, und es daher am erforderlichen Kausalzusammenhang mangelte (vgl. BGE, a.a.O., E. 3.3 S. 82 f.). Weitere Ausführungen dazu, ob ein objektiv legales Rechtsgeschäft vorlag, erübrigten sich daher. Nicht ersichtlich ist, was die Beschwerdeführerin daraus für den vorliegenden Fall ableiten will. Gleiches gilt für den von dieser ebenfalls angerufenen Entscheid 6B_437/2016 vom 22. September 2016 (teilweise publ. in: <a class=\"bgeref_id\" href=\"https://www.bger.ch/ext/eurospider/live/de/php/clir/http/index.php?lang=de&amp;type=highlight_simple_query&amp;page=1&amp;from_date=&amp;to_date=&amp;from_year=2017&amp;to_year=2019&amp;sort=relevance&amp;insertion_date=&amp;from_date_push=&amp;top_subcollection_clir=bge&amp;query_words=mord&amp;part=all&amp;de_fr=&amp;de_it=&amp;fr_de=&amp;fr_it=&amp;it_de=&amp;it_fr=&amp;orig=&amp;translation=&amp;rank=0&amp;highlight_docid=atf%3A%2F%2F142-IV-383%3Ade&amp;number_of_ranks=0&amp;azaclir=clir#page383\">BGE 142 IV 383</a>). Da die Tätigkeit als Zahntechniker und Zahnprothetiker ohne die erforderliche Bewilligung ausgeübt wurde, kann offensichtlich nicht gesagt werden, die mit den Patienten abgeschlossenen Verträge seien mit keinem Mangel behaftet gewesen. Die Behandlung der Patienten und damit der Abschluss der Rechtsgeschäfte betraf vielmehr die dem Beschuldigten vorgeworfene deliktische Tätigkeit als solche. Im Übrigen liess das Bundesgericht in diesem Entscheid ausdrücklich offen, ob und gegebenenfalls in welchem Umfang Vermögenswerte einzuziehen sind (vgl. Urteil 6B_437/2016 vom 22. September 2016 E. 2.5).</div>,\n",
       " <div class=\"paraatf\">\n",
       " <a name=\"idp551024\"></a><span class=\"bold\" id=\"consideration_2.8.4\">2.8.4 </span>Vorliegend besteht zwischen den Tötungsdelikten und dem Vermögensvorteil des Beschwerdegegners lediglich insoweit ein <a name=\"page294\"></a><div class=\"center pagebreak\">BGE 144 IV 285 S. 294</div>Kausalzusammenhang, als es ohne die Straftaten nicht zur Vereinbarung vom 4. März 2016 gekommen wäre. Allerdings wäre der Erbgang früher oder später auch ohne die Tötungsdelikte eingetreten. Schlussendlich erlangte der Beschwerdegegner die Vermögenswerte nicht durch die Tötungsdelikte, da diese seine Erbunwürdigkeit zur Folge hatten, sondern aufgrund eines von der Straftat unabhängigen, gültigen Rechtsgeschäfts mit den Privatklägern 1-3, was für die vorliegende Beurteilung entscheidend ist.</div>]"
      ]
     },
     "execution_count": 34,
     "metadata": {},
     "output_type": "execute_result"
    }
   ],
   "source": [
    "mandate1[6]"
   ]
  },
  {
   "cell_type": "code",
   "execution_count": 127,
   "metadata": {},
   "outputs": [],
   "source": [
    "p = mandate3[6]\n",
    "par = ''\n",
    "for x in p:\n",
    "    #print(x.text)\n",
    "    par += str(x.text)"
   ]
  },
  {
   "cell_type": "code",
   "execution_count": 128,
   "metadata": {},
   "outputs": [
    {
     "data": {
      "text/plain": [
       "'50. Auszug aus dem Urteil der Strafrechtlichen Abteilung i.S. X. gegen Staatsanwaltschaft des Kantons Basel-Stadt (Beschwerde in Strafsachen)6B_800/2016 vom 25. Oktober 2017Art. 147 Abs. 1 StPO; Verzicht auf das Teilnahmerecht.  Der Verzicht des Beschuldigten auf sein Teilnahmerecht bei Beweiserhebungen durch die Staatsanwaltschaft kann auch vom Verteidiger erklärt werden. Soweit der bei Einvernahmen anwesende Verteidiger gegen die Abwesenheit des Beschuldigten nicht opponiert und keinen Antrag auf dessen Teilnahme stellt, darf angenommen werden, dieser habe auf sein Teilnahmerecht verzichtet. Soweit ein gültiger Verzicht vorliegt, verletzt die im Berufungsverfahren erhobene Rüge der Verletzung des Teilnahmerechts den Grundsatz von Treu und Glauben (E. 3.4). \\nArt. 6 Ziff. 3 lit. d EMRK, Art. 152 Abs. 3 i.V.m. Art. 149 Abs. 2 lit. b StPO; indirekte Konfrontation.  Bei der Wahrung des Konfrontationsrechts sind die Interessen der Verteidigung gegen diejenigen des Opfers abzuwägen. Soweit dem Opfer eine direkte Konfrontation nicht zumutbar ist und der Beschuldigte während der Zeugeneinvernahme den Saal verlassen muss, ist es nicht zwingend, dass die Befragung per Video übertragen wird (E. 5.2). \\n\\nBGE 143 IV 397 S. 398\\n\\nA. X. suchte am 9. Dezember 2012 gegen 12.30 Uhr seine von ihm getrennt lebende Ehefrau A., die er Anfang des Jahres 2009 kennengelernt und im Sommer 2010 geheiratet hatte, in der ehelichen Wohnung in Basel zur Wahrnehmung seines Besuchsrechts gegenüber der gemeinsamen Tochter auf. In der Wohnung hielten sich im Wohnzimmer neben seiner Ehefrau und der gemeinsamen Tochter auch seine Schwiegereltern B. und C. sowie die Grossmutter der BGE 143 IV 397 S. 399Ehefrau auf. X. trug eine mit 15 Patronen geladene Pistole und eine Handtasche mit 35 weiteren Patronen mit sich. Nach einem kurzen Aufenthalt im Badezimmer, wo er einen Telefonanruf entgegengenommen hatte, brachte er seine Tochter zur Schwiegergrossmutter ins Schlafzimmer. Hernach begab er sich wiederum ins Wohnzimmer und feuerte unvermittelt mehrere Schüsse auf seine Ehefrau und seine Schwiegereltern ab, wobei an der Waffe verschiedentlich technisch bedingte Zündstörungen auftraten. Durch die Schüsse erlitten der Schwiegervater Verletzungen in Brust, Bauchhöhle und Beinen, in deren Folge er durch inneres Verbluten noch am Tatort verstarb, und seine Ehefrau sowie seine Schwiegermutter multiple schwere Verletzungen am Ober- und Unterschenkel.X. werden aufgrund dieses Sachverhalts Mord und mehrfacher versuchter Mord vorgeworfen. Darüber hinaus werden ihm verschiedene Drohungen und tätliche Übergriffe zum Nachteil seiner Ehefrau im Rahmen häuslicher Gewalt zur Last gelegt.\\nB. Das Strafgericht Basel-Stadt erklärte X. mit Urteil vom 26. September 2014 des Mordes, des mehrfachen versuchten Mordes, der mehrfachen versuchten einfachen Körperverletzung, der Sachbeschädigung, der mehrfachen Drohung, der Nötigung, der versuchten Nötigung, des Vergehens gegen das Waffengesetz sowie der Übertretung des Waffengesetzes schuldig und verurteilte ihn zu einer lebenslänglichen Freiheitsstrafe sowie einer Busse von CHF 500.-. Von der Anklage der wiederholten Tätlichkeiten zum Nachteil eines Ehegatten sprach es ihn frei. Ferner erklärte es eine am 20. Juni 2012 mit einer Probezeit von 2 Jahren bedingt ausgesprochene Geldstrafe von 10 Tagessätzen zu CHF 30.- als vollziehbar. Schliesslich entschied es über die geltend gemachten Schadenersatz- und Genugtuungsforderungen und die Einziehung bzw. Herausgabe der beschlagnahmten Gegenstände.Gegen dieses Urteil erhoben der Beurteilte Berufung und dessen Ehefrau A., deren Bruder und Tochter sowie die Schwiegermutter C. Anschlussberufung. Das Appellationsgericht des Kantons Basel-Stadt bestätigte am 27. April 2016 das erstinstanzliche Urteil im Schuldpunkt und verurteilte X. zu 20 Jahren Freiheitsstrafe, unter Einrechnung der Untersuchungs- und Sicherheitshaft seit dem 9. Dezember 2012 und des vorzeitigen Strafvollzugs seit dem 3. Dezember 2014, sowie zu einer Busse von CHF 500.-, bei schuldhafter Nichtbezahlung umwandelbar in 5 Tage Ersatzfreiheitsstrafe. Den BGE 143 IV 397 S. 400Vollzug der bedingt ausgesprochenen Geldstrafe bestätigte es. Ferner stellte es fest, dass das erstinstanzliche Urteil im Zivilpunkt infolge Rückzugs der Berufung und Dahinfallens der Anschlussberufung in Rechtskraft erwachsen war. Schliesslich entschied es über die Nebenpunkte.\\nC. X. führt Beschwerde in Strafsachen. Er beantragt, das angefochtene Urteil sei aufzuheben und die Sache zur erneuten Beurteilung und zur Durchführung eines bundesrechts- und EMRK-konformen Verfahrens an die Vorinstanz zurückzuweisen. Eventualiter sei er von der Anklage der mehrfachen Drohung zum Nachteil eines Ehegatten, der versuchten einfachen Körperverletzung, der Nötigung, der versuchten Nötigung, der Sachbeschädigung sowie von der Anklage des Mordes und des mehrfachen versuchten Mordes freizusprechen und demgegenüber des Vergehens und der Übertretung gegen das Waffengesetz sowie der fahrlässigen Tötung, eventualiter der eventualvorsätzlichen Tötung sowie der mehrfachen Gefährdung des Lebens, eventualiter der mehrfachen versuchten eventualvorsätzlichen Tötung schuldig zu sprechen und zu einer angemessenen Strafe zu verurteilen. Ferner ersucht er um Gewährung der unentgeltlichen Rechtspflege.\\nD. Mit Urteil vom 14. Dezember 2016 wies das Bundesgericht eine von X. gegen die Abweisung eines Ausstandsbegehrens gegen den Appellationsrichter Jeremy Stephenson geführte Beschwerde ab (Verfahren 1B_252/2016).Aus den Erwägungen:\\n3. \\n\\n3.1 Der Beschwerdeführer rügt weiter eine Verletzung seiner Teilnahmerechte als beschuldigte Person. Im Vorverfahren sei ihm an keiner einzigen Einvernahme oder Beweiserhebung sein Teilnahmerecht eingeräumt worden. Das Recht, an Einvernahmen von Mitbeschuldigten, Zeugen und Auskunftspersonen anwesend zu sein und Fragen zu stellen, stehe nicht nur der Verteidigung einer beschuldigten Person, sondern auch dieser selbst zu. Das Teilnahmerecht umfasse auch den Anspruch auf rechtzeitige Benachrichtigung, wobei der Termin der Beweiserhebung den Anwesenheitsberechtigten so früh wie möglich mitgeteilt werden müsse. Der Beschwerdeführer bringt vor, er sei nie direkt über die Einvernahmen Dritter im Vorverfahren orientiert worden. Es könne daher auch nicht angenommen werden, dass er auf das Teilnahmerecht verzichtet habe. Zudem sei BGE 143 IV 397 S. 401der Schluss der Vorinstanz, wonach sein früherer Rechtsvertreter zum Ausdruck gebracht habe, dass er an den Beweiserhebungen nicht teilnehmen werde, nicht haltbar. Im dem von der Vorinstanz zitierten Schreiben finde sich im Gegenteil explizit der Antrag auf Teilnahme an den Einvernahmen. Eine Einschränkung der Teilnahmerechte und die damit verbundene Beschränkung des rechtlichen Gehörs hätte formell mit einer begründeten Verfügung erfolgen müssen. Damit seien die Beweise, die in Verletzung von Art. 147 StPO erhoben worden seien, nicht zu seinen Lasten verwertbar.Der Beschwerdeführer macht weiter geltend, es seien auch die Teilnahmerechte der Verteidigung verletzt worden. Wenngleich dem früheren Verteidiger zumindest ab einem späteren Verfahrensstadium die Möglichkeit eingeräumt worden sei, bei gewissen Einvernahmen anwesend zu sein und Fragen zu stellen, sei ihm dieses Recht bei einer Vielzahl von Einvernahmen im Vorverfahren vorenthalten worden. Für die Gewährung der Teilnahmerechte sei von einem materiellen Begriff der Verfahrenseröffnung auszugehen. Aus dem Umstand, dass ein Tötungsdelikt in Frage gestanden habe und gegen ihn Zwangsmassnahmen ergriffen worden seien, ergebe sich, dass die staatsanwaltschaftliche Untersuchung bereits vor der ersten Befragung eröffnet worden sei. Die Staatsanwaltschaft wäre mit Blick auf die Schwere des Delikts gehalten gewesen, noch vor der ersten Befragung eine Pikettverteidigung zu organisieren. Die zahlreichen Einvernahmen ohne Anwesenheit eines Verteidigers dürften daher ebenfalls nicht zu seinen Lasten verwertet werden.\\n3.2 Die Vorinstanz nimmt an, der frühere Verteidiger des Beschwerdeführers, welcher bereits an dessen erster Einvernahme anwesend gewesen sei, habe von Anfang an erklärt, er werde selber an den Befragungen teilnehmen. Darüber hinaus habe er klargemacht, dass der Beschwerdeführer nicht persönlich an Einvernahmen teilnehmen werde. Dies stelle einen vom Verteidiger erklärten Verzicht auf die persönliche Teilnahme des Beschwerdeführers an den Einvernahmen dar. In Bezug auf die Verwertbarkeit der Ersteinvernahmen der Opferzeugen führt die Vorinstanz aus, es treffe zwar zu, dass angesichts der Schwere des in Frage stehenden Delikts sowie der Festnahme des Beschwerdeführers und der Anordnung von Untersuchungshaft die Voruntersuchung materiell eröffnet worden sei. Dies ändere jedoch nichts daran, dass zahlreiche Untersuchungshandlungen der Polizei durchzuführen gewesen seien. So habe der Tatort besichtigt und hätten die Anwesenden unverzüglich befragt werden BGE 143 IV 397 S. 402müssen. Diese Erstbefragungen stellten faktisch polizeiliche Ermittlungshandlungen dar, für welche kein gesetzliches Teilnahmerecht der Parteien bestehe. Für die Befragung der Opferzeuginnen versteht sich dies von selbst, zumal diese angesichts der Schwere der erlittenen Verletzungen und der zeitlichen Dringlichkeit vor den operativen Eingriffen so schnell wie möglich hätten durchgeführt werden müssen. Eine Absprache mit einem - zu diesem Zeitpunkt noch gar nicht bestimmten - Verteidiger der beschuldigten Person sei faktisch nicht möglich gewesen. Ebenso sei evident, dass angesichts des schwerwiegenden Tötungsdelikts sämtliche Personen im Umfeld des Tatortes bzw. des Arbeitsortes der beschuldigten Person unverzüglich hätten kontaktiert und erstmalig befragt werden müssen. Aus den Teilnahmerechten gemäss Art. 147 StPO könne kein Anspruch auf Zuwarten der Behörden mit den Ermittlungen am Tatort bzw. im näheren Täter- oder Opferumfeld abgeleitet werden. Angesichts der hohen Kollusionsgefahr bei einem Beziehungsdelikt in einem türkischen Familiensetting und in Berücksichtigung des Beschleunigungsgebotes sei es zudem unumgänglich gewesen, parallel zum Antrag auf Haft auch umgehend die nötigen Ersteinvernahmen durchzuführen. Im Übrigen seien alle anschliessenden Befragungen im Beisein der Verteidigung durchgeführt worden, soweit die Ermittlungshandlungen gezeigt hätten, dass die Personen überhaupt hätten Aussagen zur Sache machen können. Schliesslich sei dem Beschwerdeführer bereits am Morgen des 10. Dezember 2012 ein Türkisch sprechender Pikettanwalt als Verteidiger beigeordnet worden.\\n3.3 \\n\\n3.3.1 Gemäss Art. 147 Abs. 1 StPO haben die Parteien das Recht, bei Beweiserhebungen durch die Staatsanwaltschaft und die Gerichte anwesend zu sein und einvernommenen Personen Fragen zu stellen. Bei polizeilichen Einvernahmen richtet sich die Anwesenheit der Verteidigung nach Art. 159 StPO. Gemäss Abs. 1 dieser Bestimmung hat die beschuldigte Person das Recht, dass ihre Verteidigung, nicht aber sie selbst, bei Beweiserhebungen durch die Polizei, etwa bei polizeilichen Einvernahmen von Auskunftspersonen, anwesend sein und Fragen stellen kann (Urteile 6B_760/2016 vom 29. Juni 2017 E. 3.2.2; 6B_217/2015 vom 5. November 2015 E. 2.2, nicht publ. in: BGE 141 IV 423). Auf die Teilnahme kann vorgängig oder auch im Nachhinein ausdrücklich oder stillschweigend verzichtet werden, wobei der Verzicht des Beschuldigten auch von seinem Verteidiger ausgehen kann (SCHMID/JOSITSCH, Handbuch des schweizerischen BGE 143 IV 397 S. 403Strafprozessrechts, 3. Aufl. 2017, N. 824; DORRIT SCHLEIMINGER METTLER, in: Basler Kommentar, Schweizerische Strafprozessordnung, 2. Aufl. 2014, N. 11 zu Art. 147 StPO; OLIVIER THORMANN, in: Commentaire romand, Code de procédure pénale suisse, 2011, N. 14 zu Art. 147 StPO). Ein Verzicht ist auch anzunehmen, wenn die beschuldigte Person es unterlässt, rechtzeitig und formgerecht entsprechende Anträge zu stellen (zum Konfrontationsanspruch Urteil 6B_522/2016 vom 30. August 2016 E. 1.3 mit Hinweisen). Der Verzicht auf das Anwesenheitsrecht schliesst eine Wiederholung der Beweiserhebung aus (Urteil 6B_1178/2016 vom 21. April 2017 E. 4.3 mit Hinweisen). Das spezifische Teilnahme- und Mitwirkungsrecht fliesst aus dem Anspruch auf rechtliches Gehör (Art. 107 Abs. 1 lit. b StPO). Es kann nur unter den gesetzlichen Voraussetzungen (vgl. Art. 108, Art. 146 Abs. 4 und Art. 149 Abs. 2 lit. b StPO; siehe auch Art. 101 Abs. 1 StPO) eingeschränkt werden. Beweise, die in Verletzung dieser Bestimmung erhoben worden sind, dürfen gemäss Art. 147 Abs. 4 StPO nicht zulasten der Partei verwertet werden, die nicht anwesend war.\\n3.3.2 Die Staatsanwaltschaft eröffnet gemäss Art. 309 Abs. 1 StPO eine Untersuchung unter den in lit. a-c genannten Voraussetzungen, mithin unter anderem dann, wenn sie Zwangsmassnahmen anordnet. Ab der Eröffnung der Untersuchung darf die Polizei keine selbstständigen Ermittlungen mehr vornehmen. Die Staatsanwaltschaft kann die Polizei aber auch nach Eröffnung der Untersuchung mit ergänzenden Ermittlungen beauftragen. Sie erteilt ihr dazu schriftliche, in dringenden Fällen mündliche Anweisungen, die sich auf konkret umschriebene Abklärungen beschränken (Art. 312 Abs. 1 StPO). Bei Einvernahmen, welche die Polizei im Auftrag der Staatsanwaltschaft durchführt, haben die Verfahrensbeteiligten die Verfahrensrechte, die ihnen bei Einvernahmen durch die Staatsanwaltschaft zukommen (Art. 312 Abs. 2 StPO). Daraus folgt, dass die Parteien das Recht haben, bei Einvernahmen, welche die Polizei nach Eröffnung der Untersuchung im Auftrag der Staatsanwaltschaft durchführt, Fragen zu stellen (Urteile 6B_760/2016 vom 29. Juni 2017 E. 3.2.2; 6B_1023/2016 vom 30. März 2017 E. 1.2; 6B_217/2015 vom 5. November 2015 E. 2.2, nicht publ. in: BGE 141 IV 423, mit Hinweisen). Soweit es sich im polizeilichen Ermittlungsverfahren um selbstständige Ermittlungen im Sinne von Art. 306 Abs. 2 lit. b StPO handelt, besteht kein Anspruch auf Parteiöffentlichkeit (BGE 139 IV 25 E. 5.4.3).\\nBGE 143 IV 397 S. 404\\n\\n3.4 \\n\\n3.4.1 Der Beschwerdeführer wurde in seiner ersten Einvernahme vom 10. Dezember 2012 darauf hingewiesen, dass eine allfällige Teilnahme an Beweiserhebungen in der Untersuchung bei der Staatsanwaltschaft schriftlich oder zu Protokoll beantragt werden müsse. Dass der Beschwerdeführer einen entsprechenden Antrag gestellt hätte, macht er nicht geltend. Der frühere Verteidiger des Beschwerdeführers ersuchte die Staatsanwaltschaft mit Schreiben vom 14. Dezember 2012 nach den ersten Einvernahmen, an welchen er teilgenommen hatte, ihm die Möglichkeit zu geben, die Verteidigerrechte wahrzunehmen, namentlich an den weiteren Ermittlungshandlungen teilzunehmen und die Termine für die weiteren Beweiserhebungen mit ihm vorweg abzusprechen. Die Vorinstanz bezieht sich namentlich auf das Schreiben des Verteidigers vom 30. Januar 2013, mit welchem er der Untersuchungsbehörde mitgeteilt hat, er werde an der anberaumten Einvernahme von drei Auskunftspersonen aus dem Umfeld des Beschwerdeführers vom 1. Februar 2013 teilnehmen, nicht aber der Beschwerdeführer selbst. Die Einvernahmen vom 1. Februar 2013 fanden ohne den Beschwerdeführer statt, sein Verteidiger war anwesend bzw. hat die Einvernahmeprotokolle eingesehen. Die Abwesenheit des Beschwerdeführers wurde von seinem Verteidiger nicht beanstandet; er beantragte auch nicht die Teilnahme desselben. Für die weiteren Einvernahmen, zu welchen der Verteidiger eingeladen wurde, stellte dieser ebenfalls keinen Antrag auf Teilnahme des Beschwerdeführers. Die Vorinstanz durfte aufgrund dieser Sachlage davon ausgehen, dass der Beschwerdeführer auf sein Teilnahmerecht an den Einvernahmen verzichtet hat. Sie nimmt denn auch an, der frühere Verteidiger habe in Absprache mit dem Beschwerdeführer entschieden, die Teilnahmerechte ohne dessen Beisein wahrzunehmen. Dass diese Feststellung offensichtlich unhaltbar wäre, macht der Beschwerdeführer nicht geltend. Soweit sich seine Rüge auf die Verweigerung der Teilnahme an den Erstbefragungen der Opferzeuginnen und der weiteren Personen im Zeitraum zwischen dem Tattag, dem 9. Dezember, bis 13. Dezember 2012 bezieht, ist sie unbegründet, weil der Staatsanwaltschaft nach der Rechtsprechung im Einzelfall die Prüfung zusteht, ob sachliche Gründe für eine Beschränkung der Parteiöffentlichkeit bestehen. Solche Gründe liegen namentlich vor, wenn im Hinblick auf noch nicht erfolgte Vorhalte eine konkrete Kollusionsgefahr gegeben ist (BGE 139 IV 25 E. 5.5.4.1 mit Hinweisen).\\nBGE 143 IV 397 S. 405\\n\\n3.4.2 In Bezug auf die Teilnahme des Verteidigers an den Erstbefragungen im Zeitraum vom 9. bis 13. Dezember 2012 nimmt die Vorinstanz zunächst zutreffend an, dass das Verfahren nach der Festnahme des Beschwerdeführers und der Anordnung von Untersuchungshaft materiell eröffnet worden ist. Die Strafuntersuchung gilt als eröffnet, sobald sich die Staatsanwaltschaft mit dem Straffall zu befassen beginnt, insbesondere wenn sie Zwangsmassnahmen anordnet (BGE 141 IV 20 E. 1.1.4 mit Hinweisen). Nach der Rechtsprechung kann die Polizei indessen auch nach Eröffnung der Untersuchung und ohne formelle Delegation durch die Staatsanwaltschaft einfache Erhebungen zur Klärung des Sachverhalts vornehmen; formelle polizeiliche Einvernahmen zur Sache können indes nur bei entsprechender Delegation durchgeführt werden (Urteil 6B_217/2015 vom 5. November 2015 E. 2.2, nicht publ. in BGE 141 IV 423). Einfache Erhebungen der Polizei zur Klärung des Sachverhalts, namentlich zur Ermittlung von Geschädigten und Zeugen etc. und deren informatorische Befragung, namentlich zur Abklärung, ob diese beweisrelevante Angaben zum Sachverhalt machen können, sind mithin weiterhin möglich (SCHMID/JOSITSCH, a.a.O., N. 1233 Fn. 81; vgl. auch ULRICH WEDER, Teilnahmerechte bei Beweiserhebungen, forumpoenale 2016 S. 284). Im Übrigen ist die Polizei nicht verpflichtet, von sich aus eine Verteidigung aufzubieten oder zur Einvernahme einzuladen (Botschaft vom 21. Dezember 2005 zur Vereinheitlichung des Strafprozessrechts, BBl 2006 1194 zu Art. 156 Abs. 1 des Entwurfs; GUNDHILD GODENZI, in: Kommentar zur Schweizerischen Strafprozessordnung [StPO], Donatsch und andere [Hrsg.], 2. Aufl. 2014, N. 13 zu Art. 159 StPO).Die von der Verteidigung zitierten Befragungen stammen aus dem Zeitraum zwischen dem Tattag, dem 9. Dezember 2012, und dem 13. Dezember 2012. Die Erstbefragung des Beschwerdeführers fand in Anwesenheit des aufgebotenen Verteidigers am 10. Dezember 2012 statt. Die von der Vorinstanz genannten Ermittlungshandlungen am Tatort, d.h. dessen Besichtigung und die Befragung der anwesenden Personen, namentlich der Opferzeuginnen, wertet die Vorinstanz zu Recht als derartige polizeiliche Erhebungen, für welche kein gesetzliches Teilnahmerecht gilt. In Bezug auf die Einvernahme weiterer Personen, im Wesentlichen von Personen aus dem Umfeld des Beschwerdeführers, von Nachbarn seiner Ehefrau sowie deren Grossmutter, legt der Beschwerdeführer nicht dar, inwiefern die betreffenden Aussagen der befragten Personen zu seinen Lasten verwertet BGE 143 IV 397 S. 406worden wären. Zudem sind einzelne Nachbarn und D. in der erstinstanzlichen Hauptverhandlung als Auskunftspersonen bzw. Zeugen einvernommen und mit dem Beschwerdeführer konfrontiert worden. Eine Verletzung der Teilnahmerechte des Beschwerdeführers und seines Verteidigers ist nicht ersichtlich.Im Übrigen ist darauf hinzuweisen, dass der Grundsatz von Treu und Glauben, aus welchem sich das Verbot widersprüchlichen Verhaltens ergibt, es verbietet, der Vorinstanz bekannte rechtserhebliche Einwände vorzuenthalten und diese erst nach einem ungünstigen Entscheid im anschliessenden Rechtsmittelverfahren zu erheben (BGE 143 V 66 E. 4.3; BGE 133 III 638 E. 2 S. 640; BGE 117 Ia 491 E. 2a S. 495; Urteil 6B_100/2017 vom 9. März 2017 E. 3.4; je mit Hinweisen). Soweit sich der Beschwerdeführer im zu beurteilenden Fall gegen Verfahrenshandlungen der Behörden wendet, gegen welche er weder im Untersuchungs- noch im erstinstanzlichen Gerichtsverfahren opponiert bzw. auf welche er verzichtet hat, setzt er sich in Widerspruch zu seinem eigenen Verhalten. Dabei muss er sich das Verhalten seines früheren Verteidigers anrechnen lassen. Der blosse Umstand, dass nach Eröffnung des erstinstanzlichen Urteils mit Wirkung per 17. November 2014 ein neuer amtlicher Verteidiger eingesetzt worden ist, ändert hieran nichts. Soweit der frühere Verteidiger auf die Teilnahmerechte gültig verzichtet hat, widerspricht es mithin dem Gebot von Treu und Glauben, durch den neuen Verteidiger die Verletzung eben dieser formellen Rechte zu rügen (vgl. BGE 138 I 97 E. 4.1.5; Urteil 6B_214/2011 vom 13. September 2011 E. 4.1.3). Dies gilt jedenfalls insoweit, als nicht ein eklatanter Verstoss gegen allgemein anerkannte Verteidigerpflichten vorliegt (vgl. BGE 138 IV 161 E. 2.4; Urteil 6B_307/2016 vom 17. Juni 2016 E. 2.2), welche den Richter aufgrund seiner Fürsorgepflicht verpflichtet, das zur Gewährleistung einer genügenden Verteidigung Erforderliche vorzukehren (Urteil 6B_89/2014 vom 1. Mai 2014 E. 1.5.1). Dass dem so wäre, macht der Beschwerdeführer nicht geltend und ist auch nicht ersichtlich.(...)\\n5. \\n\\n5.1 Der Beschwerdeführer rügt sodann, die verschiedenen krassen Verletzungen des Teilnahmerechts hätten zur Konsequenz gehabt, dass keine rechtsgenügliche Konfrontation mit den befragten Personen im Sinne von Art. 6 Ziff. 3 lit. d EMRK stattgefunden habe. Eine EMRK-konforme Konfrontation habe auch an der erstinstanzlichen Verhandlung nicht stattgefunden, da die Verfahrensleitung BGE 143 IV 397 S. 407sämtliche Zeugeneinvernahmen indirekt durchgeführt habe, wobei er (der Beschwerdeführer) die Befragungen nur aus einer Nebenkammer akustisch habe mitverfolgen können. Damit sei sein Anspruch auf Konfrontation verletzt worden. Eine lediglich akustische Verfolgung der Befragung aus einem Nebenraum sei - abgesehen von der Befragung der beiden Opfer - ohnehin nicht gerechtfertigt gewesen. Bei diesen Zeugen und Auskunftspersonen seien Schutzmassnahmen im Sinne von Art. 149 StPO nicht angezeigt gewesen. In Bezug auf den Schutz der Opferzeuginnen hätte als Konfrontationsersatzmassnahme einzig die Videosimultanübertragung eine effektive Teilhabe an der Zeugenbefragung ermöglicht.\\n5.2 Die Vorinstanz stellt fest, der Vorsitzende der ersten Instanz habe vor der Zeugenbefragung jeweils den Ablauf erläutert. Danach verfolgte der Beschwerdeführer zusammen mit einem Dolmetscher in einem Nebenraum die Befragung akustisch mit. Die Verteidigung erhielt im Anschluss daran Gelegenheit, Fragen zu stellen, mit dem Beschwerdeführer Rücksprache zu nehmen und hernach allenfalls weitere Fragen zu formulieren. Der Beschwerdeführer bzw. sein Verteidiger hätten von diesem Recht teilweise Gebrauch gemacht, teilweise darauf verzichtet. Weder der Beschwerdeführer selber noch sein damaliger Verteidiger hätten die Art der Konfrontation beanstandet, sondern seien vielmehr offensichtlich damit einverstanden gewesen, dass die meisten Auskunftspersonen resp. Zeugen indirekt konfrontiert worden seien. Bei dieser Sachlage nimmt die Vorinstanz zu Recht an, es bleibe im zweitinstanzlichen Verfahren für den neuen Verteidiger kein Raum für eine Kritik am Vorgehen des Strafgerichts.Im Übrigen ist die indirekte Konfrontation auch in der Sache nicht zu beanstanden. Dies gilt nach der zutreffenden Auffassung der Vorinstanz uneingeschränkt zunächst für die Opferzeuginnen, welche gemäss Art. 152 Abs. 3 i.V.m. Art. 149 Abs. 2 lit. b StPO Anspruch auf indirekte Konfrontation haben (vgl. auch Art. 153 Abs. 2 StPO). Bei der Handhabung des Konfrontationsrechts sind die Interessen der Verteidigung und diejenigen des Opfers gegeneinander abzuwägen und ist in jedem Einzelfall zu prüfen, welche Vorgehensweisen und Ersatzmassnahmen infrage kommen, um die Verteidigungsrechte des Angeschuldigten so weit als möglich zu gewährleisten und gleichzeitig den Interessen des Opfers gerecht zu werden. Dabei steht dem Gericht bei der Wahl der Vorkehren zum Schutz der Opfer ein gewisser Ermessensspielraum zur Verfügung. Soweit dem Opfer eine BGE 143 IV 397 S. 408\\ndirekte Konfrontation nicht zumutbar ist und der Beschuldigte den Saal während der Zeugeneinvernahme verlassen muss, ist eine Videoübertragung nicht unter allen Umständen zwingend (BGE 129 I 151 E. 5; Urteil 6B_492/2015 2. Dezember 2015 E. 1.3, nicht publ. in BGE 141 IV 437; ferner Urteile 6B_681/2012 vom 12. März 2013 E. 2.3.2; 6B_295/2012 vom 24. Oktober 2012 E. 1.2.2; 6B_207/2012 vom 17. Juli 2012 E. 3.3.3; je mit Hinweisen). Der Beschwerdeführer konnte den Einvernahmen in einem anderen Raum akustisch folgen, über seinen Verteidiger Ergänzungsfragen stellen und anschliessend Stellung nehmen. Er hatte somit ausreichend Gelegenheit, die Glaubhaftigkeit der Aussagen in Zweifel zu ziehen. Die Vorgehensweise ist auch für die weiteren als Zeugen einvernommenen Personen nicht zu beanstanden. Es kann hierfür ohne weiteres auf die zutreffenden Erwägungen der Vorinstanz verwiesen werden. Inwiefern hierfür die Wahrnehmung der Körpersprache während der Einvernahme unabdingbar gewesen wäre, macht der Beschwerdeführer nicht geltend und ist auch nicht ersichtlich. Eine Verletzung des Rechts auf Konfrontation mit den Belastungszeugen liegt nicht vor.'"
      ]
     },
     "execution_count": 128,
     "metadata": {},
     "output_type": "execute_result"
    }
   ],
   "source": [
    "par"
   ]
  },
  {
   "cell_type": "code",
   "execution_count": 129,
   "metadata": {},
   "outputs": [],
   "source": [
    "p1 = mandate1[6]\n",
    "par1 = ''\n",
    "for x in p1:\n",
    "    par1 += str(x.text)"
   ]
  },
  {
   "cell_type": "code",
   "execution_count": 30,
   "metadata": {},
   "outputs": [],
   "source": [
    "from sklearn.feature_extraction.text import TfidfVectorizer\n",
    "import matplotlib\n",
    "%matplotlib inline"
   ]
  },
  {
   "cell_type": "code",
   "execution_count": 25,
   "metadata": {},
   "outputs": [],
   "source": [
    "germanStopwords = []\n",
    "with open('german.txt', 'r') as f:\n",
    "    for line in f:\n",
    "        #print(line)\n",
    "        germanStopwords.append(line.strip())\n",
    "         #do_somthing_with(line.strip())"
   ]
  },
  {
   "cell_type": "code",
   "execution_count": 105,
   "metadata": {},
   "outputs": [],
   "source": [
    "#germanStopwords"
   ]
  },
  {
   "cell_type": "code",
   "execution_count": 130,
   "metadata": {},
   "outputs": [],
   "source": [
    "vectorizer = TfidfVectorizer(stop_words = germanStopwords)\n",
    "response = vectorizer.fit_transform([par, par1])\n",
    "response = response.todense().tolist()\n",
    "df = pd.DataFrame(response, columns=vectorizer.get_feature_names())"
   ]
  },
  {
   "cell_type": "code",
   "execution_count": 133,
   "metadata": {},
   "outputs": [],
   "source": [
    "text1 = df.loc[0].sort_values()\n",
    "text1 = text1[text1 > 0.07]\n",
    "text2 = df.loc[1].sort_values()\n",
    "text2 = text2[text2 > 0.07]"
   ]
  },
  {
   "cell_type": "code",
   "execution_count": 135,
   "metadata": {},
   "outputs": [
    {
     "data": {
      "text/plain": [
       "<matplotlib.axes._subplots.AxesSubplot at 0x132fef668>"
      ]
     },
     "execution_count": 135,
     "metadata": {},
     "output_type": "execute_result"
    },
    {
     "data": {
      "image/png": "[encoded data removed]",
      "text/plain": [
       "<Figure size 1440x1440 with 1 Axes>"
      ]
     },
     "metadata": {
      "needs_background": "light"
     },
     "output_type": "display_data"
    }
   ],
   "source": [
    "text2.plot(kind=\"bar\", figsize=(20,20), sort_columns=True)"
   ]
  },
  {
   "cell_type": "code",
   "execution_count": 68,
   "metadata": {},
   "outputs": [
    {
     "name": "stdout",
     "output_type": "stream",
     "text": [
      "113 ['10', '32', '540', '70', 'abs', 'an', 'anwendung', 'art', 'auf', 'aus', 'begründen', 'bestimmung', 'bestätigung', 'beurteilte', 'beweismittel', 'beweiswürdigung', 'bv', 'das', 'dazu', 'dem', 'den', 'der', 'des', 'die', 'diesem', 'dieser', 'dubio', 'eine', 'einem', 'einen', 'einziehbar', 'einziehung', 'eltern', 'emrk', 'erben', 'erbenstellung', 'erbunwürdige', 'erbunwürdigkeit', 'erheblicher', 'erhält', 'erst', 'freien', 'für', 'gegenzug', 'geldbetrag', 'getöteten', 'grundsatz', 'grundsatzes', 'grundsätze', 'gültig', 'gültigkeit', 'im', 'immobilie', 'in', 'inhalt', 'ist', 'kann', 'keinen', 'kommt', 'legalen', 'lässt', 'mehrfacher', 'mord', 'mordes', 'nach', 'nachlass', 'nicht', 'nur', 'objektiv', 'offensichtlich', 'person', 'pro', 'raum', 'rechtsgeschäft', 'rechtsnatur', 'rechtsprechung', 'regel', 'regeste', 'reo', 'sammlung', 'seiner', 'sichtung', 'sind', 'sowie', 'späteren', 'stadium', 'stammen', 'stgb', 'stpo', 'tatbestandselemente', 'tragen', 'täter', 'und', 'unschuldsvermutung', 'unterliegen', 'vereinbarung', 'verletzung', 'vermögenseinziehung', 'vermögenswerte', 'verzichtet', 'von', 'voraussetzungen', 'welche', 'wiederholung', 'wonach', 'zgb', 'ziff', 'zum', 'zustehen', 'zuwendungen', 'zweifel', 'über', 'übergehen']\n"
     ]
    }
   ],
   "source": [
    "print(len(vectorizer.get_feature_names()),vectorizer.get_feature_names())"
   ]
  },
  {
   "cell_type": "code",
   "execution_count": 88,
   "metadata": {},
   "outputs": [],
   "source": [
    "nodes = []\n",
    "nodes.append({\"id\": mandate1[0],\"date\":mandate1[1],\"relevancy\":10, \"level\": 1, \"outDegree\": len(mandate1[4])})"
   ]
  },
  {
   "cell_type": "code",
   "execution_count": 33,
   "metadata": {},
   "outputs": [
    {
     "data": {
      "text/plain": [
       "[{'id': '144 IV 285',\n",
       "  'date': '2018-08-15',\n",
       "  'relevancy': 10,\n",
       "  'level': 1,\n",
       "  'outDegree': 18}]"
      ]
     },
     "execution_count": 33,
     "metadata": {},
     "output_type": "execute_result"
    }
   ],
   "source": [
    "nodes"
   ]
  },
  {
   "cell_type": "markdown",
   "metadata": {},
   "source": [
    "**Get NAMES, DATE and SUBLINKS of each LINKED MANDATES in list (PROBLEM: many are in french & dateparser return 0)**"
   ]
  },
  {
   "cell_type": "code",
   "execution_count": 34,
   "metadata": {},
   "outputs": [],
   "source": [
    "#mandate1[4]"
   ]
  },
  {
   "cell_type": "markdown",
   "metadata": {},
   "source": [
    "these are the main lists we will append everything to: \"nodes\" and \"edges\""
   ]
  },
  {
   "cell_type": "code",
   "execution_count": 35,
   "metadata": {},
   "outputs": [],
   "source": [
    "#edges = getEdges(mRefs,mandate1[0])"
   ]
  },
  {
   "cell_type": "code",
   "execution_count": 36,
   "metadata": {},
   "outputs": [],
   "source": [
    "#len(edges)"
   ]
  },
  {
   "cell_type": "code",
   "execution_count": 37,
   "metadata": {},
   "outputs": [],
   "source": [
    "#edges"
   ]
  },
  {
   "cell_type": "code",
   "execution_count": 38,
   "metadata": {},
   "outputs": [],
   "source": [
    "linksLevel2 = mandate1[2]"
   ]
  },
  {
   "cell_type": "markdown",
   "metadata": {},
   "source": [
    "informationen zu jeder ID level2 <br>\n",
    "wenn Jahr von ID level 2 existiert, dann source: ID level1, target: ID level2"
   ]
  },
  {
   "cell_type": "code",
   "execution_count": 90,
   "metadata": {
    "scrolled": false
   },
   "outputs": [
    {
     "name": "stdout",
     "output_type": "stream",
     "text": [
      "here date was 0 125 IV 4\n",
      "here date was 0 120 IV 365\n"
     ]
    }
   ],
   "source": [
    "linksLevel3= []\n",
    "edges2 = []\n",
    "counter = 0\n",
    "for url in linksLevel2: #level 2\n",
    "    #print(i,val)\n",
    "    mandate2 = getDateName(url)\n",
    "    #check if mandate already exists at date isn't 0 not sure if working. will edge connections be skipped? \n",
    "    if mandate2[1] == 0:\n",
    "        print(\"here date was 0\", mandate2[0])\n",
    "        \n",
    "    #problem: in edges, all ids are appended, in nodes only the ones with dates. \n",
    "    if (mandate2[1] != 0 and mandate2[0] not in nodes):\n",
    "        #print(\"jump to next level\", mandate2[1])\n",
    "        #print(\"next edgelist\", mandate2[3], mandate2[1],mandate2[0])\n",
    "        oj = {\"id\": mandate2[0],\"date\":mandate2[1],\"relevancy\":random.randint(1,9), \"level\": 2, \"outDegree\":len(mandate2[4])}\n",
    "        nodes.append(oj)\n",
    "        linksLevel3.append([mandate2[0], mandate2[2]])\n",
    "        #print(\"mandates linked\",len(mandate2[4]),\"list\",mandate2[4], \"mandate\", mandate2[0])\n",
    "        #edges + mandate2[3]\n",
    "        edges2.append({\"source\": mandate1[0], \"target\": mandate2[0]})\n",
    "        #edges.extend(mandate2[3])"
   ]
  },
  {
   "cell_type": "code",
   "execution_count": 40,
   "metadata": {},
   "outputs": [],
   "source": [
    "#nodes"
   ]
  },
  {
   "cell_type": "code",
   "execution_count": 91,
   "metadata": {},
   "outputs": [
    {
     "name": "stdout",
     "output_type": "stream",
     "text": [
      "NEW ITEM 144 IV 1\n",
      "NEW ITEM 141 IV 155\n",
      "NEW ITEM 140 IV 57\n",
      "NEW ITEM 129 IV 305\n",
      "NEW ITEM 138 IV 1\n",
      "NEW ITEM 136 IV 4\n",
      "NEW ITEM 129 II 453\n",
      "NEW ITEM 137 IV 79\n",
      "NEW ITEM 137 IV 305\n",
      "NEW ITEM 132 III 31\n",
      "NEW ITEM 132 III 30\n",
      "NEW ITEM 139 IV 209\n",
      "NEW ITEM 143 II 661\n",
      "NEW ITEM 143 III 24\n",
      "NEW ITEM 142 IV 237\n",
      "NEW ITEM 142 IV 383\n"
     ]
    }
   ],
   "source": [
    "#linksLevel3= sum(linksLevel3,[])\n",
    "for nestedItem in linksLevel3: #iterate through nested item in list. each item contains all sublinks and the source ID\n",
    "    print(\"NEW ITEM\", nestedItem[0])\n",
    "    for url in nestedItem[1]: #for each source iterate through all links\n",
    "        #print(\"NEW SUBITEM\", url)\n",
    "        mandate3 = getDateName(url)\n",
    "        if (mandate3[1] != 0 and mandate3[0] not in nodes):\n",
    "            #print(mandate3[1] != 0)\n",
    "            oj = {\"id\": mandate3[0],\"date\":mandate3[1],\"relevancy\":random.randint(1,6), \"level\": 3, \"outDegree\":len(mandate3[4])}\n",
    "            #print(oj)\n",
    "            nodes.append(oj)\n",
    "            edges2.append({\"source\": nestedItem[0], \"target\": mandate3[0]})"
   ]
  },
  {
   "cell_type": "code",
   "execution_count": 194,
   "metadata": {},
   "outputs": [
    {
     "data": {
      "text/plain": [
       "[{'id': '144 IV 285',\n",
       "  'date': '2018-08-15',\n",
       "  'relevancy': 10,\n",
       "  'level': 1,\n",
       "  'outDegree': 18,\n",
       "  'inDegree': 16},\n",
       " {'id': '144 IV 1',\n",
       "  'date': '2017-10-24',\n",
       "  'relevancy': 5,\n",
       "  'level': 2,\n",
       "  'outDegree': 17,\n",
       "  'inDegree': 0},\n",
       " {'id': '141 IV 155',\n",
       "  'date': '2015-02-25',\n",
       "  'relevancy': 2,\n",
       "  'level': 2,\n",
       "  'outDegree': 13,\n",
       "  'inDegree': 7},\n",
       " {'id': '140 IV 57',\n",
       "  'date': '2014-03-06',\n",
       "  'relevancy': 6,\n",
       "  'level': 2,\n",
       "  'outDegree': 24,\n",
       "  'inDegree': 0},\n",
       " {'id': '129 IV 305',\n",
       "  'date': '2003-09-16',\n",
       "  'relevancy': 2,\n",
       "  'level': 2,\n",
       "  'outDegree': 14,\n",
       "  'inDegree': 2},\n",
       " {'id': '138 IV 1',\n",
       "  'date': '2011-12-08',\n",
       "  'relevancy': 6,\n",
       "  'level': 2,\n",
       "  'outDegree': 5,\n",
       "  'inDegree': 0},\n",
       " {'id': '136 IV 4',\n",
       "  'date': '2010-01-12',\n",
       "  'relevancy': 2,\n",
       "  'level': 2,\n",
       "  'outDegree': 19,\n",
       "  'inDegree': 5},\n",
       " {'id': '129 II 453',\n",
       "  'date': '2003-10-27',\n",
       "  'relevancy': 8,\n",
       "  'level': 2,\n",
       "  'outDegree': 12,\n",
       "  'inDegree': 0},\n",
       " {'id': '137 IV 79',\n",
       "  'date': '2011-01-25',\n",
       "  'relevancy': 9,\n",
       "  'level': 2,\n",
       "  'outDegree': 1,\n",
       "  'inDegree': 1},\n",
       " {'id': '137 IV 305',\n",
       "  'date': '2011-08-22',\n",
       "  'relevancy': 9,\n",
       "  'level': 2,\n",
       "  'outDegree': 8,\n",
       "  'inDegree': 0},\n",
       " {'id': '132 III 31',\n",
       "  'date': '2006-03-01',\n",
       "  'relevancy': 9,\n",
       "  'level': 2,\n",
       "  'outDegree': 2,\n",
       "  'inDegree': 1},\n",
       " {'id': '132 III 30',\n",
       "  'date': '2006-02-06',\n",
       "  'relevancy': 2,\n",
       "  'level': 2,\n",
       "  'outDegree': 2,\n",
       "  'inDegree': 0},\n",
       " {'id': '139 IV 209',\n",
       "  'date': '2013-04-18',\n",
       "  'relevancy': 8,\n",
       "  'level': 2,\n",
       "  'outDegree': 3,\n",
       "  'inDegree': 2},\n",
       " {'id': '143 II 661',\n",
       "  'date': '2017-10-05',\n",
       "  'relevancy': 1,\n",
       "  'level': 2,\n",
       "  'outDegree': 17,\n",
       "  'inDegree': 0},\n",
       " {'id': '143 III 24',\n",
       "  'date': '2017-06-28',\n",
       "  'relevancy': 1,\n",
       "  'level': 2,\n",
       "  'outDegree': 21,\n",
       "  'inDegree': 6},\n",
       " {'id': '142 IV 237',\n",
       "  'date': '2016-04-18',\n",
       "  'relevancy': 2,\n",
       "  'level': 2,\n",
       "  'outDegree': 8,\n",
       "  'inDegree': 0},\n",
       " {'id': '142 IV 383',\n",
       "  'date': '2016-09-22',\n",
       "  'relevancy': 6,\n",
       "  'level': 2,\n",
       "  'outDegree': 0,\n",
       "  'inDegree': 0},\n",
       " {'id': '138 I 97',\n",
       "  'date': '2011-12-20',\n",
       "  'relevancy': 2,\n",
       "  'level': 3,\n",
       "  'outDegree': 5,\n",
       "  'inDegree': 0},\n",
       " {'id': '142 IV 383',\n",
       "  'date': '2016-09-22',\n",
       "  'relevancy': 4,\n",
       "  'level': 3,\n",
       "  'outDegree': 0,\n",
       "  'inDegree': 0},\n",
       " {'id': '141 IV 155',\n",
       "  'date': '2015-02-25',\n",
       "  'relevancy': 4,\n",
       "  'level': 3,\n",
       "  'outDegree': 13,\n",
       "  'inDegree': 0},\n",
       " {'id': '140 IV 57',\n",
       "  'date': '2014-03-06',\n",
       "  'relevancy': 4,\n",
       "  'level': 3,\n",
       "  'outDegree': 24,\n",
       "  'inDegree': 19},\n",
       " {'id': '139 IV 209',\n",
       "  'date': '2013-04-18',\n",
       "  'relevancy': 2,\n",
       "  'level': 3,\n",
       "  'outDegree': 3,\n",
       "  'inDegree': 0},\n",
       " {'id': '137 IV 305',\n",
       "  'date': '2011-08-22',\n",
       "  'relevancy': 6,\n",
       "  'level': 3,\n",
       "  'outDegree': 8,\n",
       "  'inDegree': 3},\n",
       " {'id': '141 IV 305',\n",
       "  'date': '2015-06-23',\n",
       "  'relevancy': 6,\n",
       "  'level': 3,\n",
       "  'outDegree': 13,\n",
       "  'inDegree': 0},\n",
       " {'id': '137 IV 79',\n",
       "  'date': '2011-01-25',\n",
       "  'relevancy': 5,\n",
       "  'level': 3,\n",
       "  'outDegree': 1,\n",
       "  'inDegree': 1},\n",
       " {'id': '130 III 24',\n",
       "  'date': '2004-01-29',\n",
       "  'relevancy': 3,\n",
       "  'level': 3,\n",
       "  'outDegree': 5,\n",
       "  'inDegree': 0},\n",
       " {'id': '138 III 49',\n",
       "  'date': '2012-05-16',\n",
       "  'relevancy': 1,\n",
       "  'level': 3,\n",
       "  'outDegree': 16,\n",
       "  'inDegree': 0},\n",
       " {'id': '141 IV 317',\n",
       "  'date': '2015-06-23',\n",
       "  'relevancy': 4,\n",
       "  'level': 3,\n",
       "  'outDegree': 10,\n",
       "  'inDegree': 0},\n",
       " {'id': '137 IV 305',\n",
       "  'date': '2011-08-22',\n",
       "  'relevancy': 2,\n",
       "  'level': 3,\n",
       "  'outDegree': 8,\n",
       "  'inDegree': 3},\n",
       " {'id': '129 IV 107',\n",
       "  'date': '2002-11-21',\n",
       "  'relevancy': 5,\n",
       "  'level': 3,\n",
       "  'outDegree': 5,\n",
       "  'inDegree': 0},\n",
       " {'id': '129 IV 305',\n",
       "  'date': '2003-09-16',\n",
       "  'relevancy': 3,\n",
       "  'level': 3,\n",
       "  'outDegree': 14,\n",
       "  'inDegree': 2},\n",
       " {'id': '137 IV 79',\n",
       "  'date': '2011-01-25',\n",
       "  'relevancy': 6,\n",
       "  'level': 3,\n",
       "  'outDegree': 1,\n",
       "  'inDegree': 0},\n",
       " {'id': '134 IV 185',\n",
       "  'date': '2008-05-09',\n",
       "  'relevancy': 4,\n",
       "  'level': 3,\n",
       "  'outDegree': 1,\n",
       "  'inDegree': 0},\n",
       " {'id': '128 IV 145',\n",
       "  'date': '2002-06-11',\n",
       "  'relevancy': 4,\n",
       "  'level': 3,\n",
       "  'outDegree': 7,\n",
       "  'inDegree': 0},\n",
       " {'id': '137 II 431',\n",
       "  'date': '2011-07-15',\n",
       "  'relevancy': 1,\n",
       "  'level': 3,\n",
       "  'outDegree': 16,\n",
       "  'inDegree': 0},\n",
       " {'id': '139 III 13',\n",
       "  'date': '2013-02-22',\n",
       "  'relevancy': 2,\n",
       "  'level': 3,\n",
       "  'outDegree': 4,\n",
       "  'inDegree': 0},\n",
       " {'id': '138 I 435',\n",
       "  'date': '2012-10-05',\n",
       "  'relevancy': 4,\n",
       "  'level': 3,\n",
       "  'outDegree': 29,\n",
       "  'inDegree': 0},\n",
       " {'id': '137 IV 122',\n",
       "  'date': '2011-05-16',\n",
       "  'relevancy': 5,\n",
       "  'level': 3,\n",
       "  'outDegree': 7,\n",
       "  'inDegree': 0},\n",
       " {'id': '128 II 259',\n",
       "  'date': '2002-05-29',\n",
       "  'relevancy': 3,\n",
       "  'level': 3,\n",
       "  'outDegree': 14,\n",
       "  'inDegree': 0},\n",
       " {'id': '138 IV 186',\n",
       "  'date': '2012-07-03',\n",
       "  'relevancy': 3,\n",
       "  'level': 3,\n",
       "  'outDegree': 8,\n",
       "  'inDegree': 0},\n",
       " {'id': '137 IV 340',\n",
       "  'date': '2011-11-03',\n",
       "  'relevancy': 4,\n",
       "  'level': 3,\n",
       "  'outDegree': 6,\n",
       "  'inDegree': 0},\n",
       " {'id': '129 I 103',\n",
       "  'date': '2002-12-10',\n",
       "  'relevancy': 5,\n",
       "  'level': 3,\n",
       "  'outDegree': 2,\n",
       "  'inDegree': 0},\n",
       " {'id': '128 I 129',\n",
       "  'date': '2002-05-07',\n",
       "  'relevancy': 2,\n",
       "  'level': 3,\n",
       "  'outDegree': 5,\n",
       "  'inDegree': 0},\n",
       " {'id': '131 I 333',\n",
       "  'date': '2005-05-31',\n",
       "  'relevancy': 5,\n",
       "  'level': 3,\n",
       "  'outDegree': 31,\n",
       "  'inDegree': 0},\n",
       " {'id': '131 I 425',\n",
       "  'date': '2005-07-25',\n",
       "  'relevancy': 1,\n",
       "  'level': 3,\n",
       "  'outDegree': 3,\n",
       "  'inDegree': 0},\n",
       " {'id': '137 III 52',\n",
       "  'date': '2011-10-10',\n",
       "  'relevancy': 3,\n",
       "  'level': 3,\n",
       "  'outDegree': 7,\n",
       "  'inDegree': 0},\n",
       " {'id': '136 IV 92',\n",
       "  'date': '2010-01-13',\n",
       "  'relevancy': 1,\n",
       "  'level': 3,\n",
       "  'outDegree': 9,\n",
       "  'inDegree': 0},\n",
       " {'id': '137 IV 246',\n",
       "  'date': '2011-07-15',\n",
       "  'relevancy': 6,\n",
       "  'level': 3,\n",
       "  'outDegree': 5,\n",
       "  'inDegree': 0},\n",
       " {'id': '139 IV 250',\n",
       "  'date': '2013-04-25',\n",
       "  'relevancy': 6,\n",
       "  'level': 3,\n",
       "  'outDegree': 4,\n",
       "  'inDegree': 0},\n",
       " {'id': '137 IV 145',\n",
       "  'date': '2011-04-01',\n",
       "  'relevancy': 4,\n",
       "  'level': 3,\n",
       "  'outDegree': 6,\n",
       "  'inDegree': 0},\n",
       " {'id': '139 IV 209',\n",
       "  'date': '2013-04-18',\n",
       "  'relevancy': 2,\n",
       "  'level': 3,\n",
       "  'outDegree': 3,\n",
       "  'inDegree': 2},\n",
       " {'id': '129 II 453',\n",
       "  'date': '2003-10-27',\n",
       "  'relevancy': 3,\n",
       "  'level': 3,\n",
       "  'outDegree': 12,\n",
       "  'inDegree': 0},\n",
       " {'id': '129 IV 107',\n",
       "  'date': '2002-11-21',\n",
       "  'relevancy': 3,\n",
       "  'level': 3,\n",
       "  'outDegree': 5,\n",
       "  'inDegree': 0},\n",
       " {'id': '133 IV 215',\n",
       "  'date': '2007-07-11',\n",
       "  'relevancy': 1,\n",
       "  'level': 3,\n",
       "  'outDegree': 4,\n",
       "  'inDegree': 0},\n",
       " {'id': '129 IV 49',\n",
       "  'date': '2002-12-18',\n",
       "  'relevancy': 6,\n",
       "  'level': 3,\n",
       "  'outDegree': 7,\n",
       "  'inDegree': 0},\n",
       " {'id': '128 IV 81',\n",
       "  'date': '2002-01-24',\n",
       "  'relevancy': 3,\n",
       "  'level': 3,\n",
       "  'outDegree': 9,\n",
       "  'inDegree': 0},\n",
       " {'id': '129 IV 238',\n",
       "  'date': '2003-04-04',\n",
       "  'relevancy': 5,\n",
       "  'level': 3,\n",
       "  'outDegree': 14,\n",
       "  'inDegree': 0},\n",
       " {'id': '137 IV 79',\n",
       "  'date': '2011-01-25',\n",
       "  'relevancy': 1,\n",
       "  'level': 3,\n",
       "  'outDegree': 1,\n",
       "  'inDegree': 0},\n",
       " {'id': '133 IV 76',\n",
       "  'date': '2007-01-23',\n",
       "  'relevancy': 2,\n",
       "  'level': 3,\n",
       "  'outDegree': 17,\n",
       "  'inDegree': 0},\n",
       " {'id': '130 II 217',\n",
       "  'date': '2004-05-03',\n",
       "  'relevancy': 4,\n",
       "  'level': 3,\n",
       "  'outDegree': 14,\n",
       "  'inDegree': 0},\n",
       " {'id': '132 II 218',\n",
       "  'date': '2006-04-18',\n",
       "  'relevancy': 5,\n",
       "  'level': 3,\n",
       "  'outDegree': 22,\n",
       "  'inDegree': 0},\n",
       " {'id': '129 II 56',\n",
       "  'date': '2002-11-05',\n",
       "  'relevancy': 1,\n",
       "  'level': 3,\n",
       "  'outDegree': 5,\n",
       "  'inDegree': 0},\n",
       " {'id': '131 II 169',\n",
       "  'date': '2005-02-07',\n",
       "  'relevancy': 3,\n",
       "  'level': 3,\n",
       "  'outDegree': 14,\n",
       "  'inDegree': 0},\n",
       " {'id': '129 I 173',\n",
       "  'date': '2003-02-12',\n",
       "  'relevancy': 6,\n",
       "  'level': 3,\n",
       "  'outDegree': 13,\n",
       "  'inDegree': 0},\n",
       " {'id': '129 II 225',\n",
       "  'date': '2003-02-25',\n",
       "  'relevancy': 2,\n",
       "  'level': 3,\n",
       "  'outDegree': 14,\n",
       "  'inDegree': 0},\n",
       " {'id': '129 IV 238',\n",
       "  'date': '2003-04-04',\n",
       "  'relevancy': 2,\n",
       "  'level': 3,\n",
       "  'outDegree': 14,\n",
       "  'inDegree': 0},\n",
       " {'id': '135 IV 180',\n",
       "  'date': '2009-06-18',\n",
       "  'relevancy': 6,\n",
       "  'level': 3,\n",
       "  'outDegree': 5,\n",
       "  'inDegree': 0},\n",
       " {'id': '129 IV 107',\n",
       "  'date': '2002-11-21',\n",
       "  'relevancy': 5,\n",
       "  'level': 3,\n",
       "  'outDegree': 5,\n",
       "  'inDegree': 0},\n",
       " {'id': '132 III 24',\n",
       "  'date': '2005-11-23',\n",
       "  'relevancy': 2,\n",
       "  'level': 3,\n",
       "  'outDegree': 2,\n",
       "  'inDegree': 0},\n",
       " {'id': '132 III 30',\n",
       "  'date': '2006-02-06',\n",
       "  'relevancy': 6,\n",
       "  'level': 3,\n",
       "  'outDegree': 2,\n",
       "  'inDegree': 0},\n",
       " {'id': '129 IV 322',\n",
       "  'date': '2003-09-08',\n",
       "  'relevancy': 6,\n",
       "  'level': 3,\n",
       "  'outDegree': 15,\n",
       "  'inDegree': 0},\n",
       " {'id': '129 IV 305',\n",
       "  'date': '2003-09-16',\n",
       "  'relevancy': 6,\n",
       "  'level': 3,\n",
       "  'outDegree': 14,\n",
       "  'inDegree': 0},\n",
       " {'id': '142 III 9',\n",
       "  'date': '2015-12-16',\n",
       "  'relevancy': 2,\n",
       "  'level': 3,\n",
       "  'outDegree': 2,\n",
       "  'inDegree': 0},\n",
       " {'id': '133 III 46',\n",
       "  'date': '2007-06-13',\n",
       "  'relevancy': 4,\n",
       "  'level': 3,\n",
       "  'outDegree': 22,\n",
       "  'inDegree': 0},\n",
       " {'id': '132 III 71',\n",
       "  'date': '2006-08-28',\n",
       "  'relevancy': 4,\n",
       "  'level': 3,\n",
       "  'outDegree': 10,\n",
       "  'inDegree': 0},\n",
       " {'id': '128 III 18',\n",
       "  'date': '2002-02-28',\n",
       "  'relevancy': 2,\n",
       "  'level': 3,\n",
       "  'outDegree': 21,\n",
       "  'inDegree': 0},\n",
       " {'id': '128 III 27',\n",
       "  'date': '2002-02-12',\n",
       "  'relevancy': 1,\n",
       "  'level': 3,\n",
       "  'outDegree': 15,\n",
       "  'inDegree': 0},\n",
       " {'id': '142 III 43',\n",
       "  'date': '2016-06-29',\n",
       "  'relevancy': 2,\n",
       "  'level': 3,\n",
       "  'outDegree': 23,\n",
       "  'inDegree': 0},\n",
       " {'id': '138 IV 1',\n",
       "  'date': '2011-12-08',\n",
       "  'relevancy': 5,\n",
       "  'level': 3,\n",
       "  'outDegree': 5,\n",
       "  'inDegree': 2},\n",
       " {'id': '139 V 176',\n",
       "  'date': '2013-04-04',\n",
       "  'relevancy': 2,\n",
       "  'level': 3,\n",
       "  'outDegree': 36,\n",
       "  'inDegree': 0},\n",
       " {'id': '129 V 177',\n",
       "  'date': '2002-12-19',\n",
       "  'relevancy': 1,\n",
       "  'level': 3,\n",
       "  'outDegree': 24,\n",
       "  'inDegree': 0},\n",
       " {'id': '139 II 404',\n",
       "  'date': '2013-07-05',\n",
       "  'relevancy': 2,\n",
       "  'level': 3,\n",
       "  'outDegree': 46,\n",
       "  'inDegree': 0},\n",
       " {'id': '140 II 495',\n",
       "  'date': '2014-10-10',\n",
       "  'relevancy': 3,\n",
       "  'level': 3,\n",
       "  'outDegree': 12,\n",
       "  'inDegree': 0},\n",
       " {'id': '130 III 18',\n",
       "  'date': '2003-11-26',\n",
       "  'relevancy': 1,\n",
       "  'level': 3,\n",
       "  'outDegree': 10,\n",
       "  'inDegree': 0},\n",
       " {'id': '140 II 248',\n",
       "  'date': '2014-03-28',\n",
       "  'relevancy': 3,\n",
       "  'level': 3,\n",
       "  'outDegree': 4,\n",
       "  'inDegree': 0},\n",
       " {'id': '133 II 153',\n",
       "  'date': '2007-05-16',\n",
       "  'relevancy': 2,\n",
       "  'level': 3,\n",
       "  'outDegree': 0,\n",
       "  'inDegree': 0},\n",
       " {'id': '132 III 68',\n",
       "  'date': '2006-08-31',\n",
       "  'relevancy': 2,\n",
       "  'level': 3,\n",
       "  'outDegree': 13,\n",
       "  'inDegree': 0},\n",
       " {'id': '134 III 24',\n",
       "  'date': '2007-12-18',\n",
       "  'relevancy': 1,\n",
       "  'level': 3,\n",
       "  'outDegree': 12,\n",
       "  'inDegree': 0},\n",
       " {'id': '139 V 176',\n",
       "  'date': '2013-04-04',\n",
       "  'relevancy': 2,\n",
       "  'level': 3,\n",
       "  'outDegree': 36,\n",
       "  'inDegree': 0},\n",
       " {'id': '142 III 43',\n",
       "  'date': '2016-06-29',\n",
       "  'relevancy': 3,\n",
       "  'level': 3,\n",
       "  'outDegree': 23,\n",
       "  'inDegree': 0},\n",
       " {'id': '130 III 18',\n",
       "  'date': '2003-11-26',\n",
       "  'relevancy': 4,\n",
       "  'level': 3,\n",
       "  'outDegree': 10,\n",
       "  'inDegree': 0},\n",
       " {'id': '134 III 37',\n",
       "  'date': '2008-03-17',\n",
       "  'relevancy': 5,\n",
       "  'level': 3,\n",
       "  'outDegree': 8,\n",
       "  'inDegree': 0},\n",
       " {'id': '139 V 176',\n",
       "  'date': '2013-04-04',\n",
       "  'relevancy': 4,\n",
       "  'level': 3,\n",
       "  'outDegree': 36,\n",
       "  'inDegree': 0},\n",
       " {'id': '132 III 35',\n",
       "  'date': '2005-12-20',\n",
       "  'relevancy': 1,\n",
       "  'level': 3,\n",
       "  'outDegree': 14,\n",
       "  'inDegree': 0},\n",
       " {'id': '133 III 46',\n",
       "  'date': '2007-06-13',\n",
       "  'relevancy': 3,\n",
       "  'level': 3,\n",
       "  'outDegree': 22,\n",
       "  'inDegree': 0},\n",
       " {'id': '139 IV 206',\n",
       "  'date': '2013-04-11',\n",
       "  'relevancy': 1,\n",
       "  'level': 3,\n",
       "  'outDegree': 1,\n",
       "  'inDegree': 0},\n",
       " {'id': '132 III 71',\n",
       "  'date': '2006-08-28',\n",
       "  'relevancy': 1,\n",
       "  'level': 3,\n",
       "  'outDegree': 10,\n",
       "  'inDegree': 0},\n",
       " {'id': '129 V 177',\n",
       "  'date': '2002-12-19',\n",
       "  'relevancy': 4,\n",
       "  'level': 3,\n",
       "  'outDegree': 24,\n",
       "  'inDegree': 0},\n",
       " {'id': '130 III 18',\n",
       "  'date': '2003-11-26',\n",
       "  'relevancy': 4,\n",
       "  'level': 3,\n",
       "  'outDegree': 10,\n",
       "  'inDegree': 0}]"
      ]
     },
     "execution_count": 194,
     "metadata": {},
     "output_type": "execute_result"
    }
   ],
   "source": [
    "nodes"
   ]
  },
  {
   "cell_type": "code",
   "execution_count": 203,
   "metadata": {},
   "outputs": [],
   "source": [
    "nodes2 = nodes"
   ]
  },
  {
   "cell_type": "markdown",
   "metadata": {},
   "source": [
    "**Count In degree connections**"
   ]
  },
  {
   "cell_type": "code",
   "execution_count": 191,
   "metadata": {},
   "outputs": [],
   "source": [
    "nodes4 = [{'id': '144 IV 285',\n",
    "  'date': '2018-08-15',\n",
    "  'relevancy': 10,\n",
    "  'level': 1,\n",
    "  'outDegree': 18},\n",
    " {'id': '144 IV 1',\n",
    "  'date': '2017-10-24',\n",
    "  'relevancy': 5,\n",
    "  'level': 2,\n",
    "  'outDegree': 17},\n",
    " {'id': '141 IV 155',\n",
    "  'date': '2015-02-25',\n",
    "  'relevancy': 2,\n",
    "  'level': 2,\n",
    "  'outDegree': 13},\n",
    " {'id': '140 IV 57',\n",
    "  'date': '2014-03-06',\n",
    "  'relevancy': 6,\n",
    "  'level': 2,\n",
    "  'outDegree': 24},\n",
    " {'id': '129 IV 305',\n",
    "  'date': '2003-09-16',\n",
    "  'relevancy': 2,\n",
    "  'level': 2,\n",
    "  'outDegree': 14},\n",
    "    {'id': '100 IV 340',\n",
    "  'date': '2002-09-16',\n",
    "  'relevancy': 2,\n",
    "  'level': 2,\n",
    "  'outDegree': 4},\n",
    "    {'id': '101 IV 340',\n",
    "  'date': '2002-09-16',\n",
    "  'relevancy': 11,\n",
    "  'level': 0,\n",
    "  'outDegree': 2}]"
   ]
  },
  {
   "cell_type": "code",
   "execution_count": 43,
   "metadata": {},
   "outputs": [],
   "source": [
    "from collections import Counter"
   ]
  },
  {
   "cell_type": "code",
   "execution_count": 199,
   "metadata": {},
   "outputs": [],
   "source": [
    "sources = [x['target'] for x in edges2]\n",
    "sources = Counter(sources)\n",
    "sources = list(sources.items())"
   ]
  },
  {
   "cell_type": "code",
   "execution_count": 200,
   "metadata": {},
   "outputs": [
    {
     "data": {
      "text/plain": [
       "[('144 IV 1', 1),\n",
       " ('141 IV 155', 2),\n",
       " ('140 IV 57', 2),\n",
       " ('129 IV 305', 3),\n",
       " ('138 IV 1', 2),\n",
       " ('136 IV 4', 1),\n",
       " ('129 II 453', 2),\n",
       " ('137 IV 79', 4),\n",
       " ('137 IV 305', 3),\n",
       " ('132 III 31', 1),\n",
       " ('132 III 30', 2),\n",
       " ('139 IV 209', 3),\n",
       " ('143 II 661', 1),\n",
       " ('143 III 24', 1),\n",
       " ('142 IV 237', 1),\n",
       " ('142 IV 383', 2),\n",
       " ('138 I 97', 1),\n",
       " ('141 IV 305', 1),\n",
       " ('130 III 24', 1),\n",
       " ('138 III 49', 1),\n",
       " ('141 IV 317', 1),\n",
       " ('129 IV 107', 3),\n",
       " ('134 IV 185', 1),\n",
       " ('128 IV 145', 1),\n",
       " ('137 II 431', 1),\n",
       " ('139 III 13', 1),\n",
       " ('138 I 435', 1),\n",
       " ('137 IV 122', 1),\n",
       " ('128 II 259', 1),\n",
       " ('138 IV 186', 1),\n",
       " ('137 IV 340', 1),\n",
       " ('129 I 103', 1),\n",
       " ('128 I 129', 1),\n",
       " ('131 I 333', 1),\n",
       " ('131 I 425', 1),\n",
       " ('137 III 52', 1),\n",
       " ('136 IV 92', 1),\n",
       " ('137 IV 246', 1),\n",
       " ('139 IV 250', 1),\n",
       " ('137 IV 145', 1),\n",
       " ('133 IV 215', 1),\n",
       " ('129 IV 49', 1),\n",
       " ('128 IV 81', 1),\n",
       " ('129 IV 238', 2),\n",
       " ('133 IV 76', 1),\n",
       " ('130 II 217', 1),\n",
       " ('132 II 218', 1),\n",
       " ('129 II 56', 1),\n",
       " ('131 II 169', 1),\n",
       " ('129 I 173', 1),\n",
       " ('129 II 225', 1),\n",
       " ('135 IV 180', 1),\n",
       " ('132 III 24', 1),\n",
       " ('129 IV 322', 1),\n",
       " ('142 III 9', 1),\n",
       " ('133 III 46', 2),\n",
       " ('132 III 71', 2),\n",
       " ('128 III 18', 1),\n",
       " ('128 III 27', 1),\n",
       " ('142 III 43', 2),\n",
       " ('139 V 176', 3),\n",
       " ('129 V 177', 2),\n",
       " ('139 II 404', 1),\n",
       " ('140 II 495', 1),\n",
       " ('130 III 18', 3),\n",
       " ('140 II 248', 1),\n",
       " ('133 II 153', 1),\n",
       " ('132 III 68', 1),\n",
       " ('134 III 24', 1),\n",
       " ('134 III 37', 1),\n",
       " ('132 III 35', 1),\n",
       " ('139 IV 206', 1)]"
      ]
     },
     "execution_count": 200,
     "metadata": {},
     "output_type": "execute_result"
    }
   ],
   "source": [
    "sources"
   ]
  },
  {
   "cell_type": "code",
   "execution_count": 204,
   "metadata": {},
   "outputs": [
    {
     "name": "stdout",
     "output_type": "stream",
     "text": [
      "1 id 144 IV 1\n",
      "2 id 140 IV 57\n",
      "2 id 138 IV 1\n",
      "2 id 129 II 453\n",
      "3 id 137 IV 305\n",
      "2 id 132 III 30\n",
      "1 id 143 II 661\n",
      "1 id 142 IV 237\n",
      "1 id 138 I 97\n",
      "2 id 141 IV 155\n",
      "3 id 139 IV 209\n",
      "1 id 141 IV 305\n",
      "1 id 130 III 24\n",
      "1 id 141 IV 317\n",
      "3 id 129 IV 107\n",
      "4 id 137 IV 79\n",
      "1 id 128 IV 145\n",
      "1 id 139 III 13\n",
      "1 id 137 IV 122\n",
      "1 id 138 IV 186\n",
      "1 id 129 I 103\n",
      "1 id 131 I 333\n",
      "1 id 137 III 52\n",
      "1 id 137 IV 246\n",
      "1 id 137 IV 145\n",
      "2 id 129 II 453\n",
      "1 id 133 IV 215\n",
      "1 id 128 IV 81\n",
      "4 id 137 IV 79\n",
      "1 id 130 II 217\n",
      "1 id 129 II 56\n",
      "1 id 129 I 173\n",
      "2 id 129 IV 238\n",
      "3 id 129 IV 107\n",
      "2 id 132 III 30\n",
      "3 id 129 IV 305\n",
      "2 id 133 III 46\n",
      "1 id 128 III 18\n",
      "2 id 142 III 43\n",
      "3 id 139 V 176\n",
      "1 id 139 II 404\n",
      "3 id 130 III 18\n",
      "1 id 133 II 153\n",
      "1 id 134 III 24\n",
      "2 id 142 III 43\n",
      "1 id 134 III 37\n",
      "1 id 132 III 35\n",
      "1 id 139 IV 206\n",
      "2 id 129 V 177\n"
     ]
    }
   ],
   "source": [
    "for item2 in nodes2:\n",
    "    sources = list(zip(*sources))\n",
    "    #print(sources[1][0])\n",
    "    if item2[\"id\"] in sources[0]:\n",
    "        print(sources[1][sources[0].index(item2[\"id\"])], \"id\",item2[\"id\"])\n",
    "        item2.update({\"inDegree\": sources[1][sources[0].index(item2[\"id\"])]})\n",
    "    else:\n",
    "        item2.update({\"inDegree\": 0})"
   ]
  },
  {
   "cell_type": "code",
   "execution_count": 205,
   "metadata": {},
   "outputs": [
    {
     "data": {
      "text/plain": [
       "[{'id': '144 IV 285',\n",
       "  'date': '2018-08-15',\n",
       "  'relevancy': 10,\n",
       "  'level': 1,\n",
       "  'outDegree': 18,\n",
       "  'inDegree': 0},\n",
       " {'id': '144 IV 1',\n",
       "  'date': '2017-10-24',\n",
       "  'relevancy': 5,\n",
       "  'level': 2,\n",
       "  'outDegree': 17,\n",
       "  'inDegree': 1},\n",
       " {'id': '141 IV 155',\n",
       "  'date': '2015-02-25',\n",
       "  'relevancy': 2,\n",
       "  'level': 2,\n",
       "  'outDegree': 13,\n",
       "  'inDegree': 0},\n",
       " {'id': '140 IV 57',\n",
       "  'date': '2014-03-06',\n",
       "  'relevancy': 6,\n",
       "  'level': 2,\n",
       "  'outDegree': 24,\n",
       "  'inDegree': 2},\n",
       " {'id': '129 IV 305',\n",
       "  'date': '2003-09-16',\n",
       "  'relevancy': 2,\n",
       "  'level': 2,\n",
       "  'outDegree': 14,\n",
       "  'inDegree': 0},\n",
       " {'id': '138 IV 1',\n",
       "  'date': '2011-12-08',\n",
       "  'relevancy': 6,\n",
       "  'level': 2,\n",
       "  'outDegree': 5,\n",
       "  'inDegree': 2},\n",
       " {'id': '136 IV 4',\n",
       "  'date': '2010-01-12',\n",
       "  'relevancy': 2,\n",
       "  'level': 2,\n",
       "  'outDegree': 19,\n",
       "  'inDegree': 0},\n",
       " {'id': '129 II 453',\n",
       "  'date': '2003-10-27',\n",
       "  'relevancy': 8,\n",
       "  'level': 2,\n",
       "  'outDegree': 12,\n",
       "  'inDegree': 2},\n",
       " {'id': '137 IV 79',\n",
       "  'date': '2011-01-25',\n",
       "  'relevancy': 9,\n",
       "  'level': 2,\n",
       "  'outDegree': 1,\n",
       "  'inDegree': 0},\n",
       " {'id': '137 IV 305',\n",
       "  'date': '2011-08-22',\n",
       "  'relevancy': 9,\n",
       "  'level': 2,\n",
       "  'outDegree': 8,\n",
       "  'inDegree': 3},\n",
       " {'id': '132 III 31',\n",
       "  'date': '2006-03-01',\n",
       "  'relevancy': 9,\n",
       "  'level': 2,\n",
       "  'outDegree': 2,\n",
       "  'inDegree': 0},\n",
       " {'id': '132 III 30',\n",
       "  'date': '2006-02-06',\n",
       "  'relevancy': 2,\n",
       "  'level': 2,\n",
       "  'outDegree': 2,\n",
       "  'inDegree': 2},\n",
       " {'id': '139 IV 209',\n",
       "  'date': '2013-04-18',\n",
       "  'relevancy': 8,\n",
       "  'level': 2,\n",
       "  'outDegree': 3,\n",
       "  'inDegree': 0},\n",
       " {'id': '143 II 661',\n",
       "  'date': '2017-10-05',\n",
       "  'relevancy': 1,\n",
       "  'level': 2,\n",
       "  'outDegree': 17,\n",
       "  'inDegree': 1},\n",
       " {'id': '143 III 24',\n",
       "  'date': '2017-06-28',\n",
       "  'relevancy': 1,\n",
       "  'level': 2,\n",
       "  'outDegree': 21,\n",
       "  'inDegree': 0},\n",
       " {'id': '142 IV 237',\n",
       "  'date': '2016-04-18',\n",
       "  'relevancy': 2,\n",
       "  'level': 2,\n",
       "  'outDegree': 8,\n",
       "  'inDegree': 1},\n",
       " {'id': '142 IV 383',\n",
       "  'date': '2016-09-22',\n",
       "  'relevancy': 6,\n",
       "  'level': 2,\n",
       "  'outDegree': 0,\n",
       "  'inDegree': 0},\n",
       " {'id': '138 I 97',\n",
       "  'date': '2011-12-20',\n",
       "  'relevancy': 2,\n",
       "  'level': 3,\n",
       "  'outDegree': 5,\n",
       "  'inDegree': 1},\n",
       " {'id': '142 IV 383',\n",
       "  'date': '2016-09-22',\n",
       "  'relevancy': 4,\n",
       "  'level': 3,\n",
       "  'outDegree': 0,\n",
       "  'inDegree': 0},\n",
       " {'id': '141 IV 155',\n",
       "  'date': '2015-02-25',\n",
       "  'relevancy': 4,\n",
       "  'level': 3,\n",
       "  'outDegree': 13,\n",
       "  'inDegree': 2},\n",
       " {'id': '140 IV 57',\n",
       "  'date': '2014-03-06',\n",
       "  'relevancy': 4,\n",
       "  'level': 3,\n",
       "  'outDegree': 24,\n",
       "  'inDegree': 0},\n",
       " {'id': '139 IV 209',\n",
       "  'date': '2013-04-18',\n",
       "  'relevancy': 2,\n",
       "  'level': 3,\n",
       "  'outDegree': 3,\n",
       "  'inDegree': 3},\n",
       " {'id': '137 IV 305',\n",
       "  'date': '2011-08-22',\n",
       "  'relevancy': 6,\n",
       "  'level': 3,\n",
       "  'outDegree': 8,\n",
       "  'inDegree': 0},\n",
       " {'id': '141 IV 305',\n",
       "  'date': '2015-06-23',\n",
       "  'relevancy': 6,\n",
       "  'level': 3,\n",
       "  'outDegree': 13,\n",
       "  'inDegree': 1},\n",
       " {'id': '137 IV 79',\n",
       "  'date': '2011-01-25',\n",
       "  'relevancy': 5,\n",
       "  'level': 3,\n",
       "  'outDegree': 1,\n",
       "  'inDegree': 0},\n",
       " {'id': '130 III 24',\n",
       "  'date': '2004-01-29',\n",
       "  'relevancy': 3,\n",
       "  'level': 3,\n",
       "  'outDegree': 5,\n",
       "  'inDegree': 1},\n",
       " {'id': '138 III 49',\n",
       "  'date': '2012-05-16',\n",
       "  'relevancy': 1,\n",
       "  'level': 3,\n",
       "  'outDegree': 16,\n",
       "  'inDegree': 0},\n",
       " {'id': '141 IV 317',\n",
       "  'date': '2015-06-23',\n",
       "  'relevancy': 4,\n",
       "  'level': 3,\n",
       "  'outDegree': 10,\n",
       "  'inDegree': 1},\n",
       " {'id': '137 IV 305',\n",
       "  'date': '2011-08-22',\n",
       "  'relevancy': 2,\n",
       "  'level': 3,\n",
       "  'outDegree': 8,\n",
       "  'inDegree': 0},\n",
       " {'id': '129 IV 107',\n",
       "  'date': '2002-11-21',\n",
       "  'relevancy': 5,\n",
       "  'level': 3,\n",
       "  'outDegree': 5,\n",
       "  'inDegree': 3},\n",
       " {'id': '129 IV 305',\n",
       "  'date': '2003-09-16',\n",
       "  'relevancy': 3,\n",
       "  'level': 3,\n",
       "  'outDegree': 14,\n",
       "  'inDegree': 0},\n",
       " {'id': '137 IV 79',\n",
       "  'date': '2011-01-25',\n",
       "  'relevancy': 6,\n",
       "  'level': 3,\n",
       "  'outDegree': 1,\n",
       "  'inDegree': 4},\n",
       " {'id': '134 IV 185',\n",
       "  'date': '2008-05-09',\n",
       "  'relevancy': 4,\n",
       "  'level': 3,\n",
       "  'outDegree': 1,\n",
       "  'inDegree': 0},\n",
       " {'id': '128 IV 145',\n",
       "  'date': '2002-06-11',\n",
       "  'relevancy': 4,\n",
       "  'level': 3,\n",
       "  'outDegree': 7,\n",
       "  'inDegree': 1},\n",
       " {'id': '137 II 431',\n",
       "  'date': '2011-07-15',\n",
       "  'relevancy': 1,\n",
       "  'level': 3,\n",
       "  'outDegree': 16,\n",
       "  'inDegree': 0},\n",
       " {'id': '139 III 13',\n",
       "  'date': '2013-02-22',\n",
       "  'relevancy': 2,\n",
       "  'level': 3,\n",
       "  'outDegree': 4,\n",
       "  'inDegree': 1},\n",
       " {'id': '138 I 435',\n",
       "  'date': '2012-10-05',\n",
       "  'relevancy': 4,\n",
       "  'level': 3,\n",
       "  'outDegree': 29,\n",
       "  'inDegree': 0},\n",
       " {'id': '137 IV 122',\n",
       "  'date': '2011-05-16',\n",
       "  'relevancy': 5,\n",
       "  'level': 3,\n",
       "  'outDegree': 7,\n",
       "  'inDegree': 1},\n",
       " {'id': '128 II 259',\n",
       "  'date': '2002-05-29',\n",
       "  'relevancy': 3,\n",
       "  'level': 3,\n",
       "  'outDegree': 14,\n",
       "  'inDegree': 0},\n",
       " {'id': '138 IV 186',\n",
       "  'date': '2012-07-03',\n",
       "  'relevancy': 3,\n",
       "  'level': 3,\n",
       "  'outDegree': 8,\n",
       "  'inDegree': 1},\n",
       " {'id': '137 IV 340',\n",
       "  'date': '2011-11-03',\n",
       "  'relevancy': 4,\n",
       "  'level': 3,\n",
       "  'outDegree': 6,\n",
       "  'inDegree': 0},\n",
       " {'id': '129 I 103',\n",
       "  'date': '2002-12-10',\n",
       "  'relevancy': 5,\n",
       "  'level': 3,\n",
       "  'outDegree': 2,\n",
       "  'inDegree': 1},\n",
       " {'id': '128 I 129',\n",
       "  'date': '2002-05-07',\n",
       "  'relevancy': 2,\n",
       "  'level': 3,\n",
       "  'outDegree': 5,\n",
       "  'inDegree': 0},\n",
       " {'id': '131 I 333',\n",
       "  'date': '2005-05-31',\n",
       "  'relevancy': 5,\n",
       "  'level': 3,\n",
       "  'outDegree': 31,\n",
       "  'inDegree': 1},\n",
       " {'id': '131 I 425',\n",
       "  'date': '2005-07-25',\n",
       "  'relevancy': 1,\n",
       "  'level': 3,\n",
       "  'outDegree': 3,\n",
       "  'inDegree': 0},\n",
       " {'id': '137 III 52',\n",
       "  'date': '2011-10-10',\n",
       "  'relevancy': 3,\n",
       "  'level': 3,\n",
       "  'outDegree': 7,\n",
       "  'inDegree': 1},\n",
       " {'id': '136 IV 92',\n",
       "  'date': '2010-01-13',\n",
       "  'relevancy': 1,\n",
       "  'level': 3,\n",
       "  'outDegree': 9,\n",
       "  'inDegree': 0},\n",
       " {'id': '137 IV 246',\n",
       "  'date': '2011-07-15',\n",
       "  'relevancy': 6,\n",
       "  'level': 3,\n",
       "  'outDegree': 5,\n",
       "  'inDegree': 1},\n",
       " {'id': '139 IV 250',\n",
       "  'date': '2013-04-25',\n",
       "  'relevancy': 6,\n",
       "  'level': 3,\n",
       "  'outDegree': 4,\n",
       "  'inDegree': 0},\n",
       " {'id': '137 IV 145',\n",
       "  'date': '2011-04-01',\n",
       "  'relevancy': 4,\n",
       "  'level': 3,\n",
       "  'outDegree': 6,\n",
       "  'inDegree': 1},\n",
       " {'id': '139 IV 209',\n",
       "  'date': '2013-04-18',\n",
       "  'relevancy': 2,\n",
       "  'level': 3,\n",
       "  'outDegree': 3,\n",
       "  'inDegree': 0},\n",
       " {'id': '129 II 453',\n",
       "  'date': '2003-10-27',\n",
       "  'relevancy': 3,\n",
       "  'level': 3,\n",
       "  'outDegree': 12,\n",
       "  'inDegree': 2},\n",
       " {'id': '129 IV 107',\n",
       "  'date': '2002-11-21',\n",
       "  'relevancy': 3,\n",
       "  'level': 3,\n",
       "  'outDegree': 5,\n",
       "  'inDegree': 0},\n",
       " {'id': '133 IV 215',\n",
       "  'date': '2007-07-11',\n",
       "  'relevancy': 1,\n",
       "  'level': 3,\n",
       "  'outDegree': 4,\n",
       "  'inDegree': 1},\n",
       " {'id': '129 IV 49',\n",
       "  'date': '2002-12-18',\n",
       "  'relevancy': 6,\n",
       "  'level': 3,\n",
       "  'outDegree': 7,\n",
       "  'inDegree': 0},\n",
       " {'id': '128 IV 81',\n",
       "  'date': '2002-01-24',\n",
       "  'relevancy': 3,\n",
       "  'level': 3,\n",
       "  'outDegree': 9,\n",
       "  'inDegree': 1},\n",
       " {'id': '129 IV 238',\n",
       "  'date': '2003-04-04',\n",
       "  'relevancy': 5,\n",
       "  'level': 3,\n",
       "  'outDegree': 14,\n",
       "  'inDegree': 0},\n",
       " {'id': '137 IV 79',\n",
       "  'date': '2011-01-25',\n",
       "  'relevancy': 1,\n",
       "  'level': 3,\n",
       "  'outDegree': 1,\n",
       "  'inDegree': 4},\n",
       " {'id': '133 IV 76',\n",
       "  'date': '2007-01-23',\n",
       "  'relevancy': 2,\n",
       "  'level': 3,\n",
       "  'outDegree': 17,\n",
       "  'inDegree': 0},\n",
       " {'id': '130 II 217',\n",
       "  'date': '2004-05-03',\n",
       "  'relevancy': 4,\n",
       "  'level': 3,\n",
       "  'outDegree': 14,\n",
       "  'inDegree': 1},\n",
       " {'id': '132 II 218',\n",
       "  'date': '2006-04-18',\n",
       "  'relevancy': 5,\n",
       "  'level': 3,\n",
       "  'outDegree': 22,\n",
       "  'inDegree': 0},\n",
       " {'id': '129 II 56',\n",
       "  'date': '2002-11-05',\n",
       "  'relevancy': 1,\n",
       "  'level': 3,\n",
       "  'outDegree': 5,\n",
       "  'inDegree': 1},\n",
       " {'id': '131 II 169',\n",
       "  'date': '2005-02-07',\n",
       "  'relevancy': 3,\n",
       "  'level': 3,\n",
       "  'outDegree': 14,\n",
       "  'inDegree': 0},\n",
       " {'id': '129 I 173',\n",
       "  'date': '2003-02-12',\n",
       "  'relevancy': 6,\n",
       "  'level': 3,\n",
       "  'outDegree': 13,\n",
       "  'inDegree': 1},\n",
       " {'id': '129 II 225',\n",
       "  'date': '2003-02-25',\n",
       "  'relevancy': 2,\n",
       "  'level': 3,\n",
       "  'outDegree': 14,\n",
       "  'inDegree': 0},\n",
       " {'id': '129 IV 238',\n",
       "  'date': '2003-04-04',\n",
       "  'relevancy': 2,\n",
       "  'level': 3,\n",
       "  'outDegree': 14,\n",
       "  'inDegree': 2},\n",
       " {'id': '135 IV 180',\n",
       "  'date': '2009-06-18',\n",
       "  'relevancy': 6,\n",
       "  'level': 3,\n",
       "  'outDegree': 5,\n",
       "  'inDegree': 0},\n",
       " {'id': '129 IV 107',\n",
       "  'date': '2002-11-21',\n",
       "  'relevancy': 5,\n",
       "  'level': 3,\n",
       "  'outDegree': 5,\n",
       "  'inDegree': 3},\n",
       " {'id': '132 III 24',\n",
       "  'date': '2005-11-23',\n",
       "  'relevancy': 2,\n",
       "  'level': 3,\n",
       "  'outDegree': 2,\n",
       "  'inDegree': 0},\n",
       " {'id': '132 III 30',\n",
       "  'date': '2006-02-06',\n",
       "  'relevancy': 6,\n",
       "  'level': 3,\n",
       "  'outDegree': 2,\n",
       "  'inDegree': 2},\n",
       " {'id': '129 IV 322',\n",
       "  'date': '2003-09-08',\n",
       "  'relevancy': 6,\n",
       "  'level': 3,\n",
       "  'outDegree': 15,\n",
       "  'inDegree': 0},\n",
       " {'id': '129 IV 305',\n",
       "  'date': '2003-09-16',\n",
       "  'relevancy': 6,\n",
       "  'level': 3,\n",
       "  'outDegree': 14,\n",
       "  'inDegree': 3},\n",
       " {'id': '142 III 9',\n",
       "  'date': '2015-12-16',\n",
       "  'relevancy': 2,\n",
       "  'level': 3,\n",
       "  'outDegree': 2,\n",
       "  'inDegree': 0},\n",
       " {'id': '133 III 46',\n",
       "  'date': '2007-06-13',\n",
       "  'relevancy': 4,\n",
       "  'level': 3,\n",
       "  'outDegree': 22,\n",
       "  'inDegree': 2},\n",
       " {'id': '132 III 71',\n",
       "  'date': '2006-08-28',\n",
       "  'relevancy': 4,\n",
       "  'level': 3,\n",
       "  'outDegree': 10,\n",
       "  'inDegree': 0},\n",
       " {'id': '128 III 18',\n",
       "  'date': '2002-02-28',\n",
       "  'relevancy': 2,\n",
       "  'level': 3,\n",
       "  'outDegree': 21,\n",
       "  'inDegree': 1},\n",
       " {'id': '128 III 27',\n",
       "  'date': '2002-02-12',\n",
       "  'relevancy': 1,\n",
       "  'level': 3,\n",
       "  'outDegree': 15,\n",
       "  'inDegree': 0},\n",
       " {'id': '142 III 43',\n",
       "  'date': '2016-06-29',\n",
       "  'relevancy': 2,\n",
       "  'level': 3,\n",
       "  'outDegree': 23,\n",
       "  'inDegree': 2},\n",
       " {'id': '138 IV 1',\n",
       "  'date': '2011-12-08',\n",
       "  'relevancy': 5,\n",
       "  'level': 3,\n",
       "  'outDegree': 5,\n",
       "  'inDegree': 0},\n",
       " {'id': '139 V 176',\n",
       "  'date': '2013-04-04',\n",
       "  'relevancy': 2,\n",
       "  'level': 3,\n",
       "  'outDegree': 36,\n",
       "  'inDegree': 3},\n",
       " {'id': '129 V 177',\n",
       "  'date': '2002-12-19',\n",
       "  'relevancy': 1,\n",
       "  'level': 3,\n",
       "  'outDegree': 24,\n",
       "  'inDegree': 0},\n",
       " {'id': '139 II 404',\n",
       "  'date': '2013-07-05',\n",
       "  'relevancy': 2,\n",
       "  'level': 3,\n",
       "  'outDegree': 46,\n",
       "  'inDegree': 1},\n",
       " {'id': '140 II 495',\n",
       "  'date': '2014-10-10',\n",
       "  'relevancy': 3,\n",
       "  'level': 3,\n",
       "  'outDegree': 12,\n",
       "  'inDegree': 0},\n",
       " {'id': '130 III 18',\n",
       "  'date': '2003-11-26',\n",
       "  'relevancy': 1,\n",
       "  'level': 3,\n",
       "  'outDegree': 10,\n",
       "  'inDegree': 3},\n",
       " {'id': '140 II 248',\n",
       "  'date': '2014-03-28',\n",
       "  'relevancy': 3,\n",
       "  'level': 3,\n",
       "  'outDegree': 4,\n",
       "  'inDegree': 0},\n",
       " {'id': '133 II 153',\n",
       "  'date': '2007-05-16',\n",
       "  'relevancy': 2,\n",
       "  'level': 3,\n",
       "  'outDegree': 0,\n",
       "  'inDegree': 1},\n",
       " {'id': '132 III 68',\n",
       "  'date': '2006-08-31',\n",
       "  'relevancy': 2,\n",
       "  'level': 3,\n",
       "  'outDegree': 13,\n",
       "  'inDegree': 0},\n",
       " {'id': '134 III 24',\n",
       "  'date': '2007-12-18',\n",
       "  'relevancy': 1,\n",
       "  'level': 3,\n",
       "  'outDegree': 12,\n",
       "  'inDegree': 1},\n",
       " {'id': '139 V 176',\n",
       "  'date': '2013-04-04',\n",
       "  'relevancy': 2,\n",
       "  'level': 3,\n",
       "  'outDegree': 36,\n",
       "  'inDegree': 0},\n",
       " {'id': '142 III 43',\n",
       "  'date': '2016-06-29',\n",
       "  'relevancy': 3,\n",
       "  'level': 3,\n",
       "  'outDegree': 23,\n",
       "  'inDegree': 2},\n",
       " {'id': '130 III 18',\n",
       "  'date': '2003-11-26',\n",
       "  'relevancy': 4,\n",
       "  'level': 3,\n",
       "  'outDegree': 10,\n",
       "  'inDegree': 0},\n",
       " {'id': '134 III 37',\n",
       "  'date': '2008-03-17',\n",
       "  'relevancy': 5,\n",
       "  'level': 3,\n",
       "  'outDegree': 8,\n",
       "  'inDegree': 1},\n",
       " {'id': '139 V 176',\n",
       "  'date': '2013-04-04',\n",
       "  'relevancy': 4,\n",
       "  'level': 3,\n",
       "  'outDegree': 36,\n",
       "  'inDegree': 0},\n",
       " {'id': '132 III 35',\n",
       "  'date': '2005-12-20',\n",
       "  'relevancy': 1,\n",
       "  'level': 3,\n",
       "  'outDegree': 14,\n",
       "  'inDegree': 1},\n",
       " {'id': '133 III 46',\n",
       "  'date': '2007-06-13',\n",
       "  'relevancy': 3,\n",
       "  'level': 3,\n",
       "  'outDegree': 22,\n",
       "  'inDegree': 0},\n",
       " {'id': '139 IV 206',\n",
       "  'date': '2013-04-11',\n",
       "  'relevancy': 1,\n",
       "  'level': 3,\n",
       "  'outDegree': 1,\n",
       "  'inDegree': 1},\n",
       " {'id': '132 III 71',\n",
       "  'date': '2006-08-28',\n",
       "  'relevancy': 1,\n",
       "  'level': 3,\n",
       "  'outDegree': 10,\n",
       "  'inDegree': 0},\n",
       " {'id': '129 V 177',\n",
       "  'date': '2002-12-19',\n",
       "  'relevancy': 4,\n",
       "  'level': 3,\n",
       "  'outDegree': 24,\n",
       "  'inDegree': 2},\n",
       " {'id': '130 III 18',\n",
       "  'date': '2003-11-26',\n",
       "  'relevancy': 4,\n",
       "  'level': 3,\n",
       "  'outDegree': 10,\n",
       "  'inDegree': 0}]"
      ]
     },
     "execution_count": 205,
     "metadata": {},
     "output_type": "execute_result"
    }
   ],
   "source": [
    "nodes2"
   ]
  },
  {
   "cell_type": "code",
   "execution_count": 172,
   "metadata": {},
   "outputs": [
    {
     "name": "stdout",
     "output_type": "stream",
     "text": [
      "[{'id': '100 IV 340', 'date': '2002-09-16', 'relevancy': 2, 'level': 2, 'outDegree': 4}, {'id': '101 IV 340', 'date': '2002-09-16', 'relevancy': 11, 'level': 0, 'outDegree': 2}]\n"
     ]
    }
   ],
   "source": [
    "test = [d for i,d in enumerate(nodes4) if 'inDegree' not in d]\n",
    "print(test)\n",
    "#test.update({'inDegree':0})"
   ]
  },
  {
   "cell_type": "code",
   "execution_count": 48,
   "metadata": {},
   "outputs": [
    {
     "data": {
      "text/plain": [
       "99"
      ]
     },
     "execution_count": 48,
     "metadata": {},
     "output_type": "execute_result"
    }
   ],
   "source": [
    "len(nodes)"
   ]
  },
  {
   "cell_type": "code",
   "execution_count": 49,
   "metadata": {},
   "outputs": [
    {
     "data": {
      "text/plain": [
       "99"
      ]
     },
     "execution_count": 49,
     "metadata": {},
     "output_type": "execute_result"
    }
   ],
   "source": [
    "len(nodes)"
   ]
  },
  {
   "cell_type": "code",
   "execution_count": 50,
   "metadata": {},
   "outputs": [
    {
     "data": {
      "text/plain": [
       "99"
      ]
     },
     "execution_count": 50,
     "metadata": {},
     "output_type": "execute_result"
    }
   ],
   "source": [
    "len(nodes)"
   ]
  },
  {
   "cell_type": "code",
   "execution_count": null,
   "metadata": {},
   "outputs": [],
   "source": [
    "edges2"
   ]
  },
  {
   "cell_type": "code",
   "execution_count": 210,
   "metadata": {},
   "outputs": [],
   "source": [
    "data = {\"nodes\": nodes2,\n",
    "       \"links\": edges2\n",
    "       }"
   ]
  },
  {
   "cell_type": "code",
   "execution_count": 223,
   "metadata": {},
   "outputs": [],
   "source": [
    "# as requested in comment\n",
    "exDict = {'nodes': nodes2}\n",
    "\n",
    "with open('nodes.txt', 'w') as file:\n",
    "     file.write(json.dumps(nodes2)) # use `json.loads` to do the reverse"
   ]
  },
  {
   "cell_type": "code",
   "execution_count": 229,
   "metadata": {},
   "outputs": [
    {
     "name": "stdout",
     "output_type": "stream",
     "text": [
      "0\n"
     ]
    }
   ],
   "source": [
    "number = 2\n",
    "for i in range(1):\n",
    "    print(i)"
   ]
  },
  {
   "cell_type": "code",
   "execution_count": 230,
   "metadata": {},
   "outputs": [
    {
     "name": "stdout",
     "output_type": "stream",
     "text": [
      "mord\n",
      "diebstahl\n"
     ]
    }
   ],
   "source": [
    "wordlist = [\"mord\", \"diebstahl\"]\n",
    "for i in wordlist:\n",
    "    print(i)"
   ]
  },
  {
   "cell_type": "code",
   "execution_count": null,
   "metadata": {},
   "outputs": [],
   "source": []
  }
 ],
 "metadata": {
  "kernelspec": {
   "display_name": "Python 3",
   "language": "python",
   "name": "python3"
  },
  "language_info": {
   "codemirror_mode": {
    "name": "ipython",
    "version": 3
   },
   "file_extension": ".py",
   "mimetype": "text/x-python",
   "name": "python",
   "nbconvert_exporter": "python",
   "pygments_lexer": "ipython3",
   "version": "3.7.2"
  }
 },
 "nbformat": 4,
 "nbformat_minor": 2
}
